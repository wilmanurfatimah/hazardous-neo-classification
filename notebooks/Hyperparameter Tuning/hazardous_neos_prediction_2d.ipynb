{
  "cells": [
    {
      "cell_type": "code",
      "execution_count": 1,
      "metadata": {
        "colab": {
          "base_uri": "https://localhost:8080/"
        },
        "id": "3cD63001cs9S",
        "outputId": "acd3a1c8-849d-4567-b31b-c645e2b9ba6f"
      },
      "outputs": [
        {
          "output_type": "stream",
          "name": "stdout",
          "text": [
            "Requirement already satisfied: yellowbrick in /usr/local/lib/python3.11/dist-packages (1.5)\n",
            "Requirement already satisfied: matplotlib!=3.0.0,>=2.0.2 in /usr/local/lib/python3.11/dist-packages (from yellowbrick) (3.10.0)\n",
            "Requirement already satisfied: scipy>=1.0.0 in /usr/local/lib/python3.11/dist-packages (from yellowbrick) (1.13.1)\n",
            "Requirement already satisfied: scikit-learn>=1.0.0 in /usr/local/lib/python3.11/dist-packages (from yellowbrick) (1.6.1)\n",
            "Requirement already satisfied: numpy>=1.16.0 in /usr/local/lib/python3.11/dist-packages (from yellowbrick) (1.26.4)\n",
            "Requirement already satisfied: cycler>=0.10.0 in /usr/local/lib/python3.11/dist-packages (from yellowbrick) (0.12.1)\n",
            "Requirement already satisfied: contourpy>=1.0.1 in /usr/local/lib/python3.11/dist-packages (from matplotlib!=3.0.0,>=2.0.2->yellowbrick) (1.3.1)\n",
            "Requirement already satisfied: fonttools>=4.22.0 in /usr/local/lib/python3.11/dist-packages (from matplotlib!=3.0.0,>=2.0.2->yellowbrick) (4.55.7)\n",
            "Requirement already satisfied: kiwisolver>=1.3.1 in /usr/local/lib/python3.11/dist-packages (from matplotlib!=3.0.0,>=2.0.2->yellowbrick) (1.4.8)\n",
            "Requirement already satisfied: packaging>=20.0 in /usr/local/lib/python3.11/dist-packages (from matplotlib!=3.0.0,>=2.0.2->yellowbrick) (24.2)\n",
            "Requirement already satisfied: pillow>=8 in /usr/local/lib/python3.11/dist-packages (from matplotlib!=3.0.0,>=2.0.2->yellowbrick) (11.1.0)\n",
            "Requirement already satisfied: pyparsing>=2.3.1 in /usr/local/lib/python3.11/dist-packages (from matplotlib!=3.0.0,>=2.0.2->yellowbrick) (3.2.1)\n",
            "Requirement already satisfied: python-dateutil>=2.7 in /usr/local/lib/python3.11/dist-packages (from matplotlib!=3.0.0,>=2.0.2->yellowbrick) (2.9.0.post0)\n",
            "Requirement already satisfied: joblib>=1.2.0 in /usr/local/lib/python3.11/dist-packages (from scikit-learn>=1.0.0->yellowbrick) (1.4.2)\n",
            "Requirement already satisfied: threadpoolctl>=3.1.0 in /usr/local/lib/python3.11/dist-packages (from scikit-learn>=1.0.0->yellowbrick) (3.5.0)\n",
            "Requirement already satisfied: six>=1.5 in /usr/local/lib/python3.11/dist-packages (from python-dateutil>=2.7->matplotlib!=3.0.0,>=2.0.2->yellowbrick) (1.17.0)\n"
          ]
        }
      ],
      "source": [
        "pip install yellowbrick"
      ]
    },
    {
      "cell_type": "code",
      "execution_count": 2,
      "metadata": {
        "colab": {
          "base_uri": "https://localhost:8080/"
        },
        "id": "veuCyK2kc7wH",
        "outputId": "6999500a-be9d-4a96-ea61-9eb31b1df0b3"
      },
      "outputs": [
        {
          "output_type": "stream",
          "name": "stdout",
          "text": [
            "Requirement already satisfied: imblearn in /usr/local/lib/python3.11/dist-packages (0.0)\n",
            "Requirement already satisfied: imbalanced-learn in /usr/local/lib/python3.11/dist-packages (from imblearn) (0.13.0)\n",
            "Requirement already satisfied: numpy<3,>=1.24.3 in /usr/local/lib/python3.11/dist-packages (from imbalanced-learn->imblearn) (1.26.4)\n",
            "Requirement already satisfied: scipy<2,>=1.10.1 in /usr/local/lib/python3.11/dist-packages (from imbalanced-learn->imblearn) (1.13.1)\n",
            "Requirement already satisfied: scikit-learn<2,>=1.3.2 in /usr/local/lib/python3.11/dist-packages (from imbalanced-learn->imblearn) (1.6.1)\n",
            "Requirement already satisfied: sklearn-compat<1,>=0.1 in /usr/local/lib/python3.11/dist-packages (from imbalanced-learn->imblearn) (0.1.3)\n",
            "Requirement already satisfied: joblib<2,>=1.1.1 in /usr/local/lib/python3.11/dist-packages (from imbalanced-learn->imblearn) (1.4.2)\n",
            "Requirement already satisfied: threadpoolctl<4,>=2.0.0 in /usr/local/lib/python3.11/dist-packages (from imbalanced-learn->imblearn) (3.5.0)\n"
          ]
        }
      ],
      "source": [
        "pip install imblearn"
      ]
    },
    {
      "cell_type": "code",
      "execution_count": 3,
      "metadata": {
        "id": "AoTjZjn4Jlac"
      },
      "outputs": [],
      "source": [
        "import pandas as pd  # Library untuk manipulasi data dalam bentuk DataFrame\n",
        "import numpy as np  # Library untuk komputasi numerik, operasi array, dan matriks\n",
        "import matplotlib.pyplot as plt  # Library untuk membuat visualisasi grafik\n",
        "import seaborn as sns  # Library untuk visualisasi data statistik\n",
        "from sklearn.model_selection import train_test_split\n",
        "from sklearn.preprocessing import StandardScaler, LabelEncoder, OneHotEncoder\n",
        "from sklearn.model_selection import train_test_split, GridSearchCV  # Fungsi untuk membagi data dan mencari hyperparameter terbaik\n",
        "from sklearn.svm import SVC  # Support Vector Classifier, digunakan untuk klasifikasi\n",
        "from yellowbrick.classifier import ROCAUC  # Visualisasi ROC curve dari library Yellowbrick\n",
        "from imblearn.over_sampling import SMOTE  # Teknik untuk menangani data yang tidak seimbang dengan oversampling kelas minoritas\n",
        "from sklearn.metrics import roc_curve, auc, classification_report, accuracy_score, roc_auc_score  # Evaluasi model seperti ROC curve, AUC, precision, recall, dan akurasi\n",
        "from sklearn.metrics import confusion_matrix\n",
        "import joblib\n",
        "from google.colab import drive\n",
        "from sklearn.experimental import enable_halving_search_cv\n",
        "from sklearn.model_selection import HalvingGridSearchCV"
      ]
    },
    {
      "cell_type": "code",
      "execution_count": 4,
      "metadata": {
        "colab": {
          "base_uri": "https://localhost:8080/"
        },
        "id": "T2FELkn3KtLi",
        "outputId": "4ef12ea9-6ac6-481b-b49f-02fd13aa31d2"
      },
      "outputs": [
        {
          "output_type": "stream",
          "name": "stdout",
          "text": [
            "Drive already mounted at /content/drive; to attempt to forcibly remount, call drive.mount(\"/content/drive\", force_remount=True).\n"
          ]
        }
      ],
      "source": [
        "drive.mount('/content/drive')\n",
        "df = pd.read_csv('/content/drive/MyDrive/Dataset Skripsi/data_preprocessed.csv')"
      ]
    },
    {
      "cell_type": "code",
      "execution_count": 5,
      "metadata": {
        "colab": {
          "base_uri": "https://localhost:8080/",
          "height": 226
        },
        "id": "OCTHbNZVK0i7",
        "outputId": "f2f5f1e8-1f14-4d6e-d292-b6fff03d8ca4"
      },
      "outputs": [
        {
          "output_type": "execute_result",
          "data": {
            "text/plain": [
              "   absolute_magnitude  estimated_diameter_min  estimated_diameter_max  \\\n",
              "0           -1.404852                1.458702                1.572803   \n",
              "1           -1.628087                2.083379                2.152058   \n",
              "2           -0.599112                0.075635                0.147109   \n",
              "3           -0.885132                0.436994                0.542769   \n",
              "4           -0.163105               -0.288098               -0.272000   \n",
              "\n",
              "   relative_velocity  miss_distance  is_hazardous      moid  \n",
              "0           0.816947       0.813685             0  0.105261  \n",
              "1           2.280802       0.701647             1  0.030238  \n",
              "2          -0.979324       1.247151             0  0.059966  \n",
              "3           1.090705      -0.513372             0  0.154436  \n",
              "4           0.215038       1.051623             0  0.034305  "
            ],
            "text/html": [
              "\n",
              "  <div id=\"df-176c0ce9-a20b-4f15-b26f-9c766afb405c\" class=\"colab-df-container\">\n",
              "    <div>\n",
              "<style scoped>\n",
              "    .dataframe tbody tr th:only-of-type {\n",
              "        vertical-align: middle;\n",
              "    }\n",
              "\n",
              "    .dataframe tbody tr th {\n",
              "        vertical-align: top;\n",
              "    }\n",
              "\n",
              "    .dataframe thead th {\n",
              "        text-align: right;\n",
              "    }\n",
              "</style>\n",
              "<table border=\"1\" class=\"dataframe\">\n",
              "  <thead>\n",
              "    <tr style=\"text-align: right;\">\n",
              "      <th></th>\n",
              "      <th>absolute_magnitude</th>\n",
              "      <th>estimated_diameter_min</th>\n",
              "      <th>estimated_diameter_max</th>\n",
              "      <th>relative_velocity</th>\n",
              "      <th>miss_distance</th>\n",
              "      <th>is_hazardous</th>\n",
              "      <th>moid</th>\n",
              "    </tr>\n",
              "  </thead>\n",
              "  <tbody>\n",
              "    <tr>\n",
              "      <th>0</th>\n",
              "      <td>-1.404852</td>\n",
              "      <td>1.458702</td>\n",
              "      <td>1.572803</td>\n",
              "      <td>0.816947</td>\n",
              "      <td>0.813685</td>\n",
              "      <td>0</td>\n",
              "      <td>0.105261</td>\n",
              "    </tr>\n",
              "    <tr>\n",
              "      <th>1</th>\n",
              "      <td>-1.628087</td>\n",
              "      <td>2.083379</td>\n",
              "      <td>2.152058</td>\n",
              "      <td>2.280802</td>\n",
              "      <td>0.701647</td>\n",
              "      <td>1</td>\n",
              "      <td>0.030238</td>\n",
              "    </tr>\n",
              "    <tr>\n",
              "      <th>2</th>\n",
              "      <td>-0.599112</td>\n",
              "      <td>0.075635</td>\n",
              "      <td>0.147109</td>\n",
              "      <td>-0.979324</td>\n",
              "      <td>1.247151</td>\n",
              "      <td>0</td>\n",
              "      <td>0.059966</td>\n",
              "    </tr>\n",
              "    <tr>\n",
              "      <th>3</th>\n",
              "      <td>-0.885132</td>\n",
              "      <td>0.436994</td>\n",
              "      <td>0.542769</td>\n",
              "      <td>1.090705</td>\n",
              "      <td>-0.513372</td>\n",
              "      <td>0</td>\n",
              "      <td>0.154436</td>\n",
              "    </tr>\n",
              "    <tr>\n",
              "      <th>4</th>\n",
              "      <td>-0.163105</td>\n",
              "      <td>-0.288098</td>\n",
              "      <td>-0.272000</td>\n",
              "      <td>0.215038</td>\n",
              "      <td>1.051623</td>\n",
              "      <td>0</td>\n",
              "      <td>0.034305</td>\n",
              "    </tr>\n",
              "  </tbody>\n",
              "</table>\n",
              "</div>\n",
              "    <div class=\"colab-df-buttons\">\n",
              "\n",
              "  <div class=\"colab-df-container\">\n",
              "    <button class=\"colab-df-convert\" onclick=\"convertToInteractive('df-176c0ce9-a20b-4f15-b26f-9c766afb405c')\"\n",
              "            title=\"Convert this dataframe to an interactive table.\"\n",
              "            style=\"display:none;\">\n",
              "\n",
              "  <svg xmlns=\"http://www.w3.org/2000/svg\" height=\"24px\" viewBox=\"0 -960 960 960\">\n",
              "    <path d=\"M120-120v-720h720v720H120Zm60-500h600v-160H180v160Zm220 220h160v-160H400v160Zm0 220h160v-160H400v160ZM180-400h160v-160H180v160Zm440 0h160v-160H620v160ZM180-180h160v-160H180v160Zm440 0h160v-160H620v160Z\"/>\n",
              "  </svg>\n",
              "    </button>\n",
              "\n",
              "  <style>\n",
              "    .colab-df-container {\n",
              "      display:flex;\n",
              "      gap: 12px;\n",
              "    }\n",
              "\n",
              "    .colab-df-convert {\n",
              "      background-color: #E8F0FE;\n",
              "      border: none;\n",
              "      border-radius: 50%;\n",
              "      cursor: pointer;\n",
              "      display: none;\n",
              "      fill: #1967D2;\n",
              "      height: 32px;\n",
              "      padding: 0 0 0 0;\n",
              "      width: 32px;\n",
              "    }\n",
              "\n",
              "    .colab-df-convert:hover {\n",
              "      background-color: #E2EBFA;\n",
              "      box-shadow: 0px 1px 2px rgba(60, 64, 67, 0.3), 0px 1px 3px 1px rgba(60, 64, 67, 0.15);\n",
              "      fill: #174EA6;\n",
              "    }\n",
              "\n",
              "    .colab-df-buttons div {\n",
              "      margin-bottom: 4px;\n",
              "    }\n",
              "\n",
              "    [theme=dark] .colab-df-convert {\n",
              "      background-color: #3B4455;\n",
              "      fill: #D2E3FC;\n",
              "    }\n",
              "\n",
              "    [theme=dark] .colab-df-convert:hover {\n",
              "      background-color: #434B5C;\n",
              "      box-shadow: 0px 1px 3px 1px rgba(0, 0, 0, 0.15);\n",
              "      filter: drop-shadow(0px 1px 2px rgba(0, 0, 0, 0.3));\n",
              "      fill: #FFFFFF;\n",
              "    }\n",
              "  </style>\n",
              "\n",
              "    <script>\n",
              "      const buttonEl =\n",
              "        document.querySelector('#df-176c0ce9-a20b-4f15-b26f-9c766afb405c button.colab-df-convert');\n",
              "      buttonEl.style.display =\n",
              "        google.colab.kernel.accessAllowed ? 'block' : 'none';\n",
              "\n",
              "      async function convertToInteractive(key) {\n",
              "        const element = document.querySelector('#df-176c0ce9-a20b-4f15-b26f-9c766afb405c');\n",
              "        const dataTable =\n",
              "          await google.colab.kernel.invokeFunction('convertToInteractive',\n",
              "                                                    [key], {});\n",
              "        if (!dataTable) return;\n",
              "\n",
              "        const docLinkHtml = 'Like what you see? Visit the ' +\n",
              "          '<a target=\"_blank\" href=https://colab.research.google.com/notebooks/data_table.ipynb>data table notebook</a>'\n",
              "          + ' to learn more about interactive tables.';\n",
              "        element.innerHTML = '';\n",
              "        dataTable['output_type'] = 'display_data';\n",
              "        await google.colab.output.renderOutput(dataTable, element);\n",
              "        const docLink = document.createElement('div');\n",
              "        docLink.innerHTML = docLinkHtml;\n",
              "        element.appendChild(docLink);\n",
              "      }\n",
              "    </script>\n",
              "  </div>\n",
              "\n",
              "\n",
              "<div id=\"df-3c131ab2-585e-4195-9544-1a80a2c28c95\">\n",
              "  <button class=\"colab-df-quickchart\" onclick=\"quickchart('df-3c131ab2-585e-4195-9544-1a80a2c28c95')\"\n",
              "            title=\"Suggest charts\"\n",
              "            style=\"display:none;\">\n",
              "\n",
              "<svg xmlns=\"http://www.w3.org/2000/svg\" height=\"24px\"viewBox=\"0 0 24 24\"\n",
              "     width=\"24px\">\n",
              "    <g>\n",
              "        <path d=\"M19 3H5c-1.1 0-2 .9-2 2v14c0 1.1.9 2 2 2h14c1.1 0 2-.9 2-2V5c0-1.1-.9-2-2-2zM9 17H7v-7h2v7zm4 0h-2V7h2v10zm4 0h-2v-4h2v4z\"/>\n",
              "    </g>\n",
              "</svg>\n",
              "  </button>\n",
              "\n",
              "<style>\n",
              "  .colab-df-quickchart {\n",
              "      --bg-color: #E8F0FE;\n",
              "      --fill-color: #1967D2;\n",
              "      --hover-bg-color: #E2EBFA;\n",
              "      --hover-fill-color: #174EA6;\n",
              "      --disabled-fill-color: #AAA;\n",
              "      --disabled-bg-color: #DDD;\n",
              "  }\n",
              "\n",
              "  [theme=dark] .colab-df-quickchart {\n",
              "      --bg-color: #3B4455;\n",
              "      --fill-color: #D2E3FC;\n",
              "      --hover-bg-color: #434B5C;\n",
              "      --hover-fill-color: #FFFFFF;\n",
              "      --disabled-bg-color: #3B4455;\n",
              "      --disabled-fill-color: #666;\n",
              "  }\n",
              "\n",
              "  .colab-df-quickchart {\n",
              "    background-color: var(--bg-color);\n",
              "    border: none;\n",
              "    border-radius: 50%;\n",
              "    cursor: pointer;\n",
              "    display: none;\n",
              "    fill: var(--fill-color);\n",
              "    height: 32px;\n",
              "    padding: 0;\n",
              "    width: 32px;\n",
              "  }\n",
              "\n",
              "  .colab-df-quickchart:hover {\n",
              "    background-color: var(--hover-bg-color);\n",
              "    box-shadow: 0 1px 2px rgba(60, 64, 67, 0.3), 0 1px 3px 1px rgba(60, 64, 67, 0.15);\n",
              "    fill: var(--button-hover-fill-color);\n",
              "  }\n",
              "\n",
              "  .colab-df-quickchart-complete:disabled,\n",
              "  .colab-df-quickchart-complete:disabled:hover {\n",
              "    background-color: var(--disabled-bg-color);\n",
              "    fill: var(--disabled-fill-color);\n",
              "    box-shadow: none;\n",
              "  }\n",
              "\n",
              "  .colab-df-spinner {\n",
              "    border: 2px solid var(--fill-color);\n",
              "    border-color: transparent;\n",
              "    border-bottom-color: var(--fill-color);\n",
              "    animation:\n",
              "      spin 1s steps(1) infinite;\n",
              "  }\n",
              "\n",
              "  @keyframes spin {\n",
              "    0% {\n",
              "      border-color: transparent;\n",
              "      border-bottom-color: var(--fill-color);\n",
              "      border-left-color: var(--fill-color);\n",
              "    }\n",
              "    20% {\n",
              "      border-color: transparent;\n",
              "      border-left-color: var(--fill-color);\n",
              "      border-top-color: var(--fill-color);\n",
              "    }\n",
              "    30% {\n",
              "      border-color: transparent;\n",
              "      border-left-color: var(--fill-color);\n",
              "      border-top-color: var(--fill-color);\n",
              "      border-right-color: var(--fill-color);\n",
              "    }\n",
              "    40% {\n",
              "      border-color: transparent;\n",
              "      border-right-color: var(--fill-color);\n",
              "      border-top-color: var(--fill-color);\n",
              "    }\n",
              "    60% {\n",
              "      border-color: transparent;\n",
              "      border-right-color: var(--fill-color);\n",
              "    }\n",
              "    80% {\n",
              "      border-color: transparent;\n",
              "      border-right-color: var(--fill-color);\n",
              "      border-bottom-color: var(--fill-color);\n",
              "    }\n",
              "    90% {\n",
              "      border-color: transparent;\n",
              "      border-bottom-color: var(--fill-color);\n",
              "    }\n",
              "  }\n",
              "</style>\n",
              "\n",
              "  <script>\n",
              "    async function quickchart(key) {\n",
              "      const quickchartButtonEl =\n",
              "        document.querySelector('#' + key + ' button');\n",
              "      quickchartButtonEl.disabled = true;  // To prevent multiple clicks.\n",
              "      quickchartButtonEl.classList.add('colab-df-spinner');\n",
              "      try {\n",
              "        const charts = await google.colab.kernel.invokeFunction(\n",
              "            'suggestCharts', [key], {});\n",
              "      } catch (error) {\n",
              "        console.error('Error during call to suggestCharts:', error);\n",
              "      }\n",
              "      quickchartButtonEl.classList.remove('colab-df-spinner');\n",
              "      quickchartButtonEl.classList.add('colab-df-quickchart-complete');\n",
              "    }\n",
              "    (() => {\n",
              "      let quickchartButtonEl =\n",
              "        document.querySelector('#df-3c131ab2-585e-4195-9544-1a80a2c28c95 button');\n",
              "      quickchartButtonEl.style.display =\n",
              "        google.colab.kernel.accessAllowed ? 'block' : 'none';\n",
              "    })();\n",
              "  </script>\n",
              "</div>\n",
              "\n",
              "    </div>\n",
              "  </div>\n"
            ],
            "application/vnd.google.colaboratory.intrinsic+json": {
              "type": "dataframe",
              "variable_name": "df"
            }
          },
          "metadata": {},
          "execution_count": 5
        }
      ],
      "source": [
        "df.head()"
      ]
    },
    {
      "cell_type": "code",
      "execution_count": 6,
      "metadata": {
        "id": "enm_4OlbK263"
      },
      "outputs": [],
      "source": [
        "# Memisahkan kolom fitur dan target\n",
        "X = df.drop(columns=['is_hazardous']) # Fitur\n",
        "y = df['is_hazardous'] # Target"
      ]
    },
    {
      "cell_type": "code",
      "execution_count": 7,
      "metadata": {
        "colab": {
          "base_uri": "https://localhost:8080/"
        },
        "id": "iC99KUi_K7vj",
        "outputId": "3fd17dbf-ab08-4eb9-92ea-93d4811d6431"
      },
      "outputs": [
        {
          "output_type": "stream",
          "name": "stdout",
          "text": [
            "Original y distribution: is_hazardous\n",
            "0    267017\n",
            "1     35632\n",
            "Name: count, dtype: int64\n",
            "Resampled y distribution: is_hazardous\n",
            "0    267017\n",
            "1    267017\n",
            "Name: count, dtype: int64\n"
          ]
        }
      ],
      "source": [
        "# Menangani data yang tidak seimbang pada kolom target (is hazardous)\n",
        "smote = SMOTE(random_state=42)\n",
        "X_resampled, y_resampled = smote.fit_resample(X, y)\n",
        "\n",
        "print(f'Original y distribution: {y.value_counts()}')\n",
        "print(f'Resampled y distribution: {pd.Series(y_resampled).value_counts()}')"
      ]
    },
    {
      "cell_type": "code",
      "execution_count": 8,
      "metadata": {
        "colab": {
          "base_uri": "https://localhost:8080/"
        },
        "id": "U87WRxItK8i-",
        "outputId": "cf2cd916-a373-406f-ebbc-500833740f77"
      },
      "outputs": [
        {
          "output_type": "stream",
          "name": "stdout",
          "text": [
            "Jumlah data pada training set (X_train): 427227\n",
            "Jumlah data pada test set (X_test): 106807\n",
            "Jumlah label pada training set (y_train): 427227\n",
            "Jumlah label pada test set (y_test): 106807\n"
          ]
        }
      ],
      "source": [
        "# Membagi data menjadi data training dan data test dengan rasio 80:20\n",
        "X_train, X_test, y_train, y_test = train_test_split(X_resampled, y_resampled, test_size=0.2, random_state=42)\n",
        "\n",
        "# Melihat jumlah data pada training set dan test set\n",
        "print(f'Jumlah data pada training set (X_train): {len(X_train)}')\n",
        "print(f'Jumlah data pada test set (X_test): {len(X_test)}')\n",
        "print(f'Jumlah label pada training set (y_train): {len(y_train)}')\n",
        "print(f'Jumlah label pada test set (y_test): {len(y_test)}')"
      ]
    },
    {
      "cell_type": "code",
      "execution_count": 9,
      "metadata": {
        "colab": {
          "base_uri": "https://localhost:8080/"
        },
        "id": "YIhqUusygaoa",
        "outputId": "13a796e5-3b45-40cf-a9d0-87efcc4a68fb"
      },
      "outputs": [
        {
          "output_type": "stream",
          "name": "stdout",
          "text": [
            "n_iterations: 2\n",
            "n_required_iterations: 2\n",
            "n_possible_iterations: 2\n",
            "min_resources_: 213613\n",
            "max_resources_: 427227\n",
            "aggressive_elimination: False\n",
            "factor: 2\n",
            "----------\n",
            "iter: 0\n",
            "n_candidates: 2\n",
            "n_resources: 213613\n",
            "Fitting 2 folds for each of 2 candidates, totalling 4 fits\n",
            "----------\n",
            "iter: 1\n",
            "n_candidates: 1\n",
            "n_resources: 427226\n",
            "Fitting 2 folds for each of 1 candidates, totalling 2 fits\n",
            "Best SVC Parameters: {'C': 1, 'kernel': 'linear'}\n",
            "Best SVC Model Performance:\n",
            "              precision    recall  f1-score   support\n",
            "\n",
            "           0       0.99      0.96      0.97     53361\n",
            "           1       0.96      0.99      0.97     53446\n",
            "\n",
            "    accuracy                           0.97    106807\n",
            "   macro avg       0.97      0.97      0.97    106807\n",
            "weighted avg       0.97      0.97      0.97    106807\n",
            "\n",
            "Accuracy: 0.9741309090228168\n",
            "ROC AUC: 0.9958862537832887\n"
          ]
        }
      ],
      "source": [
        "# Definisikan model SVC\n",
        "svc = SVC(probability=True, random_state=42)\n",
        "\n",
        "# Definisikan parameter grid untuk pencarian\n",
        "param_grid_svc = {\n",
        "    'C': [1, 10],\n",
        "    'kernel': ['linear']\n",
        "}\n",
        "\n",
        "# Halving Grid Search\n",
        "grid_svc = HalvingGridSearchCV(estimator=svc, param_grid=param_grid_svc,\n",
        "                               factor=2, cv=2, n_jobs=-1, verbose=2, scoring='roc_auc')\n",
        "\n",
        "# Melatih model dengan Halving Grid Search\n",
        "grid_svc.fit(X_train, y_train)\n",
        "\n",
        "# Model terbaik\n",
        "best_svc = grid_svc.best_estimator_\n",
        "print(\"Best SVC Parameters:\", grid_svc.best_params_)\n",
        "\n",
        "# Melatih model terbaik dengan seluruh dataset\n",
        "best_svc.fit(X_train, y_train)\n",
        "\n",
        "# Melakukan prediksi\n",
        "y_pred_best_svc = best_svc.predict(X_test)\n",
        "\n",
        "# Menampilkan performa model terbaik\n",
        "print(\"Best SVC Model Performance:\")\n",
        "print(classification_report(y_test, y_pred_best_svc))\n",
        "\n",
        "# Menghitung akurasi dan ROC AUC\n",
        "accuracy_best_svc = accuracy_score(y_test, y_pred_best_svc)\n",
        "roc_auc_best_svc = roc_auc_score(y_test, best_svc.predict_proba(X_test)[:, 1])\n",
        "\n",
        "# Menampilkan hasil akurasi dan ROC AUC\n",
        "print(f\"Accuracy: {accuracy_best_svc}\")\n",
        "print(f\"ROC AUC: {roc_auc_best_svc}\")"
      ]
    },
    {
      "cell_type": "code",
      "execution_count": 10,
      "metadata": {
        "id": "JhTkvYiugqGn",
        "colab": {
          "base_uri": "https://localhost:8080/",
          "height": 529
        },
        "outputId": "8dbbda28-4dbc-47af-e615-657a76dc36c5"
      },
      "outputs": [
        {
          "output_type": "display_data",
          "data": {
            "text/plain": [
              "<Figure size 800x600 with 1 Axes>"
            ],
            "image/png": "[encoded data removed]"
          },
          "metadata": {}
        }
      ],
      "source": [
        "# Hitung probabilitas prediksi untuk kelas positif\n",
        "y_prob_best_svc = best_svc.predict_proba(X_test)[:, 1]\n",
        "\n",
        "# Hitung nilai False Positive Rate (FPR), True Positive Rate (TPR), dan thresholds\n",
        "fpr_svc, tpr_svc, thresholds_svc = roc_curve(y_test, y_prob_best_svc)\n",
        "\n",
        "# Hitung nilai AUC untuk SVC\n",
        "roc_auc_svc = auc(fpr_svc, tpr_svc)\n",
        "\n",
        "# Plot ROC Curve untuk SVC\n",
        "plt.figure(figsize=(8, 6))\n",
        "plt.plot(fpr_svc, tpr_svc, color='Red', lw=2, label=f'ROC Curve (AUC = {roc_auc_svc:.2f})')\n",
        "plt.plot([0, 1], [0, 1], color='gray', linestyle='--', label='Random Classifier')\n",
        "plt.xlabel('False Positive Rate (FPR)', fontsize=12)\n",
        "plt.ylabel('True Positive Rate (TPR)', fontsize=12)\n",
        "plt.title('ROC Curve for SVC After Hyperparameter Tuning', fontsize=14)\n",
        "plt.legend(loc='lower right', fontsize=10)\n",
        "plt.grid(alpha=0.3)\n",
        "plt.show()"
      ]
    },
    {
      "cell_type": "code",
      "execution_count": 11,
      "metadata": {
        "id": "-5tMhHQ3gx0g",
        "colab": {
          "base_uri": "https://localhost:8080/",
          "height": 460
        },
        "outputId": "866163b1-c6dc-4368-e28f-3db2e9aa5656"
      },
      "outputs": [
        {
          "output_type": "stream",
          "name": "stdout",
          "text": [
            "Confusion Matrix:\n",
            "[[51025  2336]\n",
            " [  427 53019]]\n"
          ]
        },
        {
          "output_type": "display_data",
          "data": {
            "text/plain": [
              "<Figure size 600x400 with 2 Axes>"
            ],
            "image/png": "[encoded data removed]"
          },
          "metadata": {}
        }
      ],
      "source": [
        "# Confusion Matrix\n",
        "conf_matrix_svc = confusion_matrix(y_test, y_pred_best_svc)\n",
        "print(\"Confusion Matrix:\")\n",
        "print(conf_matrix_svc)\n",
        "\n",
        "# Visualisasi Confusion Matrix\n",
        "plt.figure(figsize=(6, 4))\n",
        "sns.heatmap(conf_matrix_svc, annot=True, fmt='d', cmap='Blues', xticklabels=['Not Hazardous', 'Hazardous'], yticklabels=['Not Hazardous', 'Hazardous'])\n",
        "plt.xlabel('Predicted Label')\n",
        "plt.ylabel('True Label')\n",
        "plt.title('Confusion Matrix SVC After Hyperparameter Tuning')\n",
        "plt.show()"
      ]
    },
    {
      "cell_type": "code",
      "execution_count": 12,
      "metadata": {
        "id": "vb1zXRpig4wC",
        "colab": {
          "base_uri": "https://localhost:8080/"
        },
        "outputId": "8f95d0b5-f309-4d0a-cf42-850ae6e25913"
      },
      "outputs": [
        {
          "output_type": "execute_result",
          "data": {
            "text/plain": [
              "['/content/drive/My Drive/best_svc_model.pkl']"
            ]
          },
          "metadata": {},
          "execution_count": 12
        }
      ],
      "source": [
        "# Menyimpan model svc terbaik\n",
        "joblib.dump(best_svc, '/content/drive/My Drive/best_svc_model.pkl')\n"
      ]
    }
  ],
  "metadata": {
    "accelerator": "TPU",
    "colab": {
      "gpuType": "V28",
      "provenance": []
    },
    "kernelspec": {
      "display_name": "Python 3",
      "name": "python3"
    },
    "language_info": {
      "name": "python"
    }
  },
  "nbformat": 4,
  "nbformat_minor": 0
}