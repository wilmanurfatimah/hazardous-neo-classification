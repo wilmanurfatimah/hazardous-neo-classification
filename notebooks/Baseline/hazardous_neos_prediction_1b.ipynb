{
  "nbformat": 4,
  "nbformat_minor": 0,
  "metadata": {
    "colab": {
      "provenance": []
    },
    "kernelspec": {
      "name": "python3",
      "display_name": "Python 3"
    },
    "language_info": {
      "name": "python"
    }
  },
  "cells": [
    {
      "cell_type": "code",
      "execution_count": 1,
      "metadata": {
        "id": "vcvOOI6Nf5VZ"
      },
      "outputs": [],
      "source": [
        "import pandas as pd  # Library untuk manipulasi data dalam bentuk DataFrame\n",
        "import numpy as np  # Library untuk komputasi numerik, operasi array, dan matriks\n",
        "import matplotlib.pyplot as plt  # Library untuk membuat visualisasi grafik\n",
        "import seaborn as sns  # Library untuk visualisasi data statistik\n",
        "from sklearn.model_selection import train_test_split\n",
        "from sklearn.model_selection import train_test_split, GridSearchCV  # Fungsi untuk membagi data dan mencari hyperparameter terbaik\n",
        "from sklearn.svm import SVC  # Support Vector Classifier, digunakan untuk klasifikasi\n",
        "from yellowbrick.classifier import ROCAUC  # Visualisasi ROC curve dari library Yellowbrick\n",
        "from imblearn.over_sampling import SMOTE  # Teknik untuk menangani data yang tidak seimbang dengan oversampling kelas minoritas\n",
        "from sklearn.metrics import roc_curve, auc, classification_report, accuracy_score, roc_auc_score  # Evaluasi model seperti ROC curve, AUC, precision, recall, dan akurasi\n",
        "from sklearn.metrics import confusion_matrix\n",
        "import gdown\n",
        "from google.colab import drive"
      ]
    },
    {
      "cell_type": "code",
      "source": [
        "drive.mount('/content/drive')\n",
        "df = pd.read_csv('/content/drive/MyDrive/Dataset Skripsi/data_preprocessed.csv')"
      ],
      "metadata": {
        "colab": {
          "base_uri": "https://localhost:8080/"
        },
        "id": "-iBgYBXhikv4",
        "outputId": "da91c0c9-7e58-447d-8a92-01676b774888"
      },
      "execution_count": 2,
      "outputs": [
        {
          "output_type": "stream",
          "name": "stdout",
          "text": [
            "Mounted at /content/drive\n"
          ]
        }
      ]
    },
    {
      "cell_type": "code",
      "source": [
        "df.head()"
      ],
      "metadata": {
        "colab": {
          "base_uri": "https://localhost:8080/",
          "height": 206
        },
        "id": "nYe35VKujKXL",
        "outputId": "24a59df7-f8a7-470e-cc1b-562ad538a856"
      },
      "execution_count": 3,
      "outputs": [
        {
          "output_type": "execute_result",
          "data": {
            "text/plain": [
              "   absolute_magnitude  estimated_diameter_min  estimated_diameter_max  \\\n",
              "0           -1.404852                1.458702                1.572803   \n",
              "1           -1.628087                2.083379                2.152058   \n",
              "2           -0.599112                0.075635                0.147109   \n",
              "3           -0.885132                0.436994                0.542769   \n",
              "4           -0.163105               -0.288098               -0.272000   \n",
              "\n",
              "   relative_velocity  miss_distance  is_hazardous      moid  \n",
              "0           0.816947       0.813685             0  0.105261  \n",
              "1           2.280802       0.701647             1  0.030238  \n",
              "2          -0.979324       1.247151             0  0.059966  \n",
              "3           1.090705      -0.513372             0  0.154436  \n",
              "4           0.215038       1.051623             0  0.034305  "
            ],
            "text/html": [
              "\n",
              "  <div id=\"df-9707fb39-6b81-40a4-a5d8-fc54ab52d326\" class=\"colab-df-container\">\n",
              "    <div>\n",
              "<style scoped>\n",
              "    .dataframe tbody tr th:only-of-type {\n",
              "        vertical-align: middle;\n",
              "    }\n",
              "\n",
              "    .dataframe tbody tr th {\n",
              "        vertical-align: top;\n",
              "    }\n",
              "\n",
              "    .dataframe thead th {\n",
              "        text-align: right;\n",
              "    }\n",
              "</style>\n",
              "<table border=\"1\" class=\"dataframe\">\n",
              "  <thead>\n",
              "    <tr style=\"text-align: right;\">\n",
              "      <th></th>\n",
              "      <th>absolute_magnitude</th>\n",
              "      <th>estimated_diameter_min</th>\n",
              "      <th>estimated_diameter_max</th>\n",
              "      <th>relative_velocity</th>\n",
              "      <th>miss_distance</th>\n",
              "      <th>is_hazardous</th>\n",
              "      <th>moid</th>\n",
              "    </tr>\n",
              "  </thead>\n",
              "  <tbody>\n",
              "    <tr>\n",
              "      <th>0</th>\n",
              "      <td>-1.404852</td>\n",
              "      <td>1.458702</td>\n",
              "      <td>1.572803</td>\n",
              "      <td>0.816947</td>\n",
              "      <td>0.813685</td>\n",
              "      <td>0</td>\n",
              "      <td>0.105261</td>\n",
              "    </tr>\n",
              "    <tr>\n",
              "      <th>1</th>\n",
              "      <td>-1.628087</td>\n",
              "      <td>2.083379</td>\n",
              "      <td>2.152058</td>\n",
              "      <td>2.280802</td>\n",
              "      <td>0.701647</td>\n",
              "      <td>1</td>\n",
              "      <td>0.030238</td>\n",
              "    </tr>\n",
              "    <tr>\n",
              "      <th>2</th>\n",
              "      <td>-0.599112</td>\n",
              "      <td>0.075635</td>\n",
              "      <td>0.147109</td>\n",
              "      <td>-0.979324</td>\n",
              "      <td>1.247151</td>\n",
              "      <td>0</td>\n",
              "      <td>0.059966</td>\n",
              "    </tr>\n",
              "    <tr>\n",
              "      <th>3</th>\n",
              "      <td>-0.885132</td>\n",
              "      <td>0.436994</td>\n",
              "      <td>0.542769</td>\n",
              "      <td>1.090705</td>\n",
              "      <td>-0.513372</td>\n",
              "      <td>0</td>\n",
              "      <td>0.154436</td>\n",
              "    </tr>\n",
              "    <tr>\n",
              "      <th>4</th>\n",
              "      <td>-0.163105</td>\n",
              "      <td>-0.288098</td>\n",
              "      <td>-0.272000</td>\n",
              "      <td>0.215038</td>\n",
              "      <td>1.051623</td>\n",
              "      <td>0</td>\n",
              "      <td>0.034305</td>\n",
              "    </tr>\n",
              "  </tbody>\n",
              "</table>\n",
              "</div>\n",
              "    <div class=\"colab-df-buttons\">\n",
              "\n",
              "  <div class=\"colab-df-container\">\n",
              "    <button class=\"colab-df-convert\" onclick=\"convertToInteractive('df-9707fb39-6b81-40a4-a5d8-fc54ab52d326')\"\n",
              "            title=\"Convert this dataframe to an interactive table.\"\n",
              "            style=\"display:none;\">\n",
              "\n",
              "  <svg xmlns=\"http://www.w3.org/2000/svg\" height=\"24px\" viewBox=\"0 -960 960 960\">\n",
              "    <path d=\"M120-120v-720h720v720H120Zm60-500h600v-160H180v160Zm220 220h160v-160H400v160Zm0 220h160v-160H400v160ZM180-400h160v-160H180v160Zm440 0h160v-160H620v160ZM180-180h160v-160H180v160Zm440 0h160v-160H620v160Z\"/>\n",
              "  </svg>\n",
              "    </button>\n",
              "\n",
              "  <style>\n",
              "    .colab-df-container {\n",
              "      display:flex;\n",
              "      gap: 12px;\n",
              "    }\n",
              "\n",
              "    .colab-df-convert {\n",
              "      background-color: #E8F0FE;\n",
              "      border: none;\n",
              "      border-radius: 50%;\n",
              "      cursor: pointer;\n",
              "      display: none;\n",
              "      fill: #1967D2;\n",
              "      height: 32px;\n",
              "      padding: 0 0 0 0;\n",
              "      width: 32px;\n",
              "    }\n",
              "\n",
              "    .colab-df-convert:hover {\n",
              "      background-color: #E2EBFA;\n",
              "      box-shadow: 0px 1px 2px rgba(60, 64, 67, 0.3), 0px 1px 3px 1px rgba(60, 64, 67, 0.15);\n",
              "      fill: #174EA6;\n",
              "    }\n",
              "\n",
              "    .colab-df-buttons div {\n",
              "      margin-bottom: 4px;\n",
              "    }\n",
              "\n",
              "    [theme=dark] .colab-df-convert {\n",
              "      background-color: #3B4455;\n",
              "      fill: #D2E3FC;\n",
              "    }\n",
              "\n",
              "    [theme=dark] .colab-df-convert:hover {\n",
              "      background-color: #434B5C;\n",
              "      box-shadow: 0px 1px 3px 1px rgba(0, 0, 0, 0.15);\n",
              "      filter: drop-shadow(0px 1px 2px rgba(0, 0, 0, 0.3));\n",
              "      fill: #FFFFFF;\n",
              "    }\n",
              "  </style>\n",
              "\n",
              "    <script>\n",
              "      const buttonEl =\n",
              "        document.querySelector('#df-9707fb39-6b81-40a4-a5d8-fc54ab52d326 button.colab-df-convert');\n",
              "      buttonEl.style.display =\n",
              "        google.colab.kernel.accessAllowed ? 'block' : 'none';\n",
              "\n",
              "      async function convertToInteractive(key) {\n",
              "        const element = document.querySelector('#df-9707fb39-6b81-40a4-a5d8-fc54ab52d326');\n",
              "        const dataTable =\n",
              "          await google.colab.kernel.invokeFunction('convertToInteractive',\n",
              "                                                    [key], {});\n",
              "        if (!dataTable) return;\n",
              "\n",
              "        const docLinkHtml = 'Like what you see? Visit the ' +\n",
              "          '<a target=\"_blank\" href=https://colab.research.google.com/notebooks/data_table.ipynb>data table notebook</a>'\n",
              "          + ' to learn more about interactive tables.';\n",
              "        element.innerHTML = '';\n",
              "        dataTable['output_type'] = 'display_data';\n",
              "        await google.colab.output.renderOutput(dataTable, element);\n",
              "        const docLink = document.createElement('div');\n",
              "        docLink.innerHTML = docLinkHtml;\n",
              "        element.appendChild(docLink);\n",
              "      }\n",
              "    </script>\n",
              "  </div>\n",
              "\n",
              "\n",
              "<div id=\"df-1fcd6839-fbda-4f56-b9c5-40c853e3a35c\">\n",
              "  <button class=\"colab-df-quickchart\" onclick=\"quickchart('df-1fcd6839-fbda-4f56-b9c5-40c853e3a35c')\"\n",
              "            title=\"Suggest charts\"\n",
              "            style=\"display:none;\">\n",
              "\n",
              "<svg xmlns=\"http://www.w3.org/2000/svg\" height=\"24px\"viewBox=\"0 0 24 24\"\n",
              "     width=\"24px\">\n",
              "    <g>\n",
              "        <path d=\"M19 3H5c-1.1 0-2 .9-2 2v14c0 1.1.9 2 2 2h14c1.1 0 2-.9 2-2V5c0-1.1-.9-2-2-2zM9 17H7v-7h2v7zm4 0h-2V7h2v10zm4 0h-2v-4h2v4z\"/>\n",
              "    </g>\n",
              "</svg>\n",
              "  </button>\n",
              "\n",
              "<style>\n",
              "  .colab-df-quickchart {\n",
              "      --bg-color: #E8F0FE;\n",
              "      --fill-color: #1967D2;\n",
              "      --hover-bg-color: #E2EBFA;\n",
              "      --hover-fill-color: #174EA6;\n",
              "      --disabled-fill-color: #AAA;\n",
              "      --disabled-bg-color: #DDD;\n",
              "  }\n",
              "\n",
              "  [theme=dark] .colab-df-quickchart {\n",
              "      --bg-color: #3B4455;\n",
              "      --fill-color: #D2E3FC;\n",
              "      --hover-bg-color: #434B5C;\n",
              "      --hover-fill-color: #FFFFFF;\n",
              "      --disabled-bg-color: #3B4455;\n",
              "      --disabled-fill-color: #666;\n",
              "  }\n",
              "\n",
              "  .colab-df-quickchart {\n",
              "    background-color: var(--bg-color);\n",
              "    border: none;\n",
              "    border-radius: 50%;\n",
              "    cursor: pointer;\n",
              "    display: none;\n",
              "    fill: var(--fill-color);\n",
              "    height: 32px;\n",
              "    padding: 0;\n",
              "    width: 32px;\n",
              "  }\n",
              "\n",
              "  .colab-df-quickchart:hover {\n",
              "    background-color: var(--hover-bg-color);\n",
              "    box-shadow: 0 1px 2px rgba(60, 64, 67, 0.3), 0 1px 3px 1px rgba(60, 64, 67, 0.15);\n",
              "    fill: var(--button-hover-fill-color);\n",
              "  }\n",
              "\n",
              "  .colab-df-quickchart-complete:disabled,\n",
              "  .colab-df-quickchart-complete:disabled:hover {\n",
              "    background-color: var(--disabled-bg-color);\n",
              "    fill: var(--disabled-fill-color);\n",
              "    box-shadow: none;\n",
              "  }\n",
              "\n",
              "  .colab-df-spinner {\n",
              "    border: 2px solid var(--fill-color);\n",
              "    border-color: transparent;\n",
              "    border-bottom-color: var(--fill-color);\n",
              "    animation:\n",
              "      spin 1s steps(1) infinite;\n",
              "  }\n",
              "\n",
              "  @keyframes spin {\n",
              "    0% {\n",
              "      border-color: transparent;\n",
              "      border-bottom-color: var(--fill-color);\n",
              "      border-left-color: var(--fill-color);\n",
              "    }\n",
              "    20% {\n",
              "      border-color: transparent;\n",
              "      border-left-color: var(--fill-color);\n",
              "      border-top-color: var(--fill-color);\n",
              "    }\n",
              "    30% {\n",
              "      border-color: transparent;\n",
              "      border-left-color: var(--fill-color);\n",
              "      border-top-color: var(--fill-color);\n",
              "      border-right-color: var(--fill-color);\n",
              "    }\n",
              "    40% {\n",
              "      border-color: transparent;\n",
              "      border-right-color: var(--fill-color);\n",
              "      border-top-color: var(--fill-color);\n",
              "    }\n",
              "    60% {\n",
              "      border-color: transparent;\n",
              "      border-right-color: var(--fill-color);\n",
              "    }\n",
              "    80% {\n",
              "      border-color: transparent;\n",
              "      border-right-color: var(--fill-color);\n",
              "      border-bottom-color: var(--fill-color);\n",
              "    }\n",
              "    90% {\n",
              "      border-color: transparent;\n",
              "      border-bottom-color: var(--fill-color);\n",
              "    }\n",
              "  }\n",
              "</style>\n",
              "\n",
              "  <script>\n",
              "    async function quickchart(key) {\n",
              "      const quickchartButtonEl =\n",
              "        document.querySelector('#' + key + ' button');\n",
              "      quickchartButtonEl.disabled = true;  // To prevent multiple clicks.\n",
              "      quickchartButtonEl.classList.add('colab-df-spinner');\n",
              "      try {\n",
              "        const charts = await google.colab.kernel.invokeFunction(\n",
              "            'suggestCharts', [key], {});\n",
              "      } catch (error) {\n",
              "        console.error('Error during call to suggestCharts:', error);\n",
              "      }\n",
              "      quickchartButtonEl.classList.remove('colab-df-spinner');\n",
              "      quickchartButtonEl.classList.add('colab-df-quickchart-complete');\n",
              "    }\n",
              "    (() => {\n",
              "      let quickchartButtonEl =\n",
              "        document.querySelector('#df-1fcd6839-fbda-4f56-b9c5-40c853e3a35c button');\n",
              "      quickchartButtonEl.style.display =\n",
              "        google.colab.kernel.accessAllowed ? 'block' : 'none';\n",
              "    })();\n",
              "  </script>\n",
              "</div>\n",
              "\n",
              "    </div>\n",
              "  </div>\n"
            ],
            "application/vnd.google.colaboratory.intrinsic+json": {
              "type": "dataframe",
              "variable_name": "df"
            }
          },
          "metadata": {},
          "execution_count": 3
        }
      ]
    },
    {
      "cell_type": "code",
      "source": [
        "# Memisahkan kolom fitur dan target\n",
        "X = df.drop(columns=['is_hazardous']) # Fitur\n",
        "y = df['is_hazardous'] # Target"
      ],
      "metadata": {
        "id": "qeiSqWPfjNfi"
      },
      "execution_count": 4,
      "outputs": []
    },
    {
      "cell_type": "code",
      "source": [
        "# Menangani data yang tidak seimbang pada kolom target (is hazardous)\n",
        "smote = SMOTE(random_state=42)\n",
        "X_resampled, y_resampled = smote.fit_resample(X, y)\n",
        "\n",
        "print(f'Original y distribution: {y.value_counts()}')\n",
        "print(f'Resampled y distribution: {pd.Series(y_resampled).value_counts()}')"
      ],
      "metadata": {
        "colab": {
          "base_uri": "https://localhost:8080/"
        },
        "id": "FCNQI9xsjR6h",
        "outputId": "fca4ea9e-980c-4f37-c4e1-2e9c8e31b199"
      },
      "execution_count": 5,
      "outputs": [
        {
          "output_type": "stream",
          "name": "stderr",
          "text": [
            "/usr/local/lib/python3.10/dist-packages/sklearn/base.py:474: FutureWarning: `BaseEstimator._validate_data` is deprecated in 1.6 and will be removed in 1.7. Use `sklearn.utils.validation.validate_data` instead. This function becomes public and is part of the scikit-learn developer API.\n",
            "  warnings.warn(\n",
            "/usr/local/lib/python3.10/dist-packages/sklearn/utils/_tags.py:354: FutureWarning: The SMOTE or classes from which it inherits use `_get_tags` and `_more_tags`. Please define the `__sklearn_tags__` method, or inherit from `sklearn.base.BaseEstimator` and/or other appropriate mixins such as `sklearn.base.TransformerMixin`, `sklearn.base.ClassifierMixin`, `sklearn.base.RegressorMixin`, and `sklearn.base.OutlierMixin`. From scikit-learn 1.7, not defining `__sklearn_tags__` will raise an error.\n",
            "  warnings.warn(\n"
          ]
        },
        {
          "output_type": "stream",
          "name": "stdout",
          "text": [
            "Original y distribution: is_hazardous\n",
            "0    267017\n",
            "1     35632\n",
            "Name: count, dtype: int64\n",
            "Resampled y distribution: is_hazardous\n",
            "0    267017\n",
            "1    267017\n",
            "Name: count, dtype: int64\n"
          ]
        }
      ]
    },
    {
      "cell_type": "code",
      "source": [
        "# Membagi data menjadi data training dan data test dengan rasio 80:20\n",
        "X_train, X_test, y_train, y_test = train_test_split(X_resampled, y_resampled, test_size=0.2, random_state=42)\n",
        "\n",
        "# Melihat jumlah data pada training set dan test set\n",
        "print(f'Jumlah data pada training set (X_train): {len(X_train)}')\n",
        "print(f'Jumlah data pada test set (X_test): {len(X_test)}')\n",
        "print(f'Jumlah label pada training set (y_train): {len(y_train)}')\n",
        "print(f'Jumlah label pada test set (y_test): {len(y_test)}')"
      ],
      "metadata": {
        "colab": {
          "base_uri": "https://localhost:8080/"
        },
        "id": "_qvJ0XhZjWMs",
        "outputId": "3d829195-c5b6-446f-8666-e33cdbacc34b"
      },
      "execution_count": 6,
      "outputs": [
        {
          "output_type": "stream",
          "name": "stdout",
          "text": [
            "Jumlah data pada training set (X_train): 427227\n",
            "Jumlah data pada test set (X_test): 106807\n",
            "Jumlah label pada training set (y_train): 427227\n",
            "Jumlah label pada test set (y_test): 106807\n"
          ]
        }
      ]
    },
    {
      "cell_type": "code",
      "source": [
        "# Membangun model dasar SVC\n",
        "model_svc_baseline = SVC(probability=True, random_state=42)\n",
        "model_svc_baseline.fit(X_train, y_train)\n",
        "\n",
        "# Evaluasi model dasar\n",
        "y_pred_svc_baseline = model_svc_baseline.predict(X_test)\n",
        "y_prob_svc_baseline = model_svc_baseline.predict_proba(X_test)[:, 1]  # Probabilitas untuk kelas positif\n",
        "\n",
        "# Menampilkan hasil evaluasi\n",
        "print(\"SVC Baseline Model Performance:\")\n",
        "print(classification_report(y_test, y_pred_svc_baseline))\n",
        "\n",
        "accuracy_svc_baseline = accuracy_score(y_test, y_pred_svc_baseline)\n",
        "roc_auc_svc_baseline = roc_auc_score(y_test, y_prob_svc_baseline)\n",
        "\n",
        "print(f\"Accuracy: {accuracy_svc_baseline}\")\n",
        "print(f\"ROC AUC: {roc_auc_svc_baseline}\")"
      ],
      "metadata": {
        "colab": {
          "base_uri": "https://localhost:8080/"
        },
        "id": "q9XFmqeljhOz",
        "outputId": "5ddcfb95-14f9-4bfd-d108-04757e7d854b"
      },
      "execution_count": 7,
      "outputs": [
        {
          "output_type": "stream",
          "name": "stdout",
          "text": [
            "SVC Baseline Model Performance:\n",
            "              precision    recall  f1-score   support\n",
            "\n",
            "           0       1.00      0.96      0.98     53361\n",
            "           1       0.96      1.00      0.98     53446\n",
            "\n",
            "    accuracy                           0.98    106807\n",
            "   macro avg       0.98      0.98      0.98    106807\n",
            "weighted avg       0.98      0.98      0.98    106807\n",
            "\n",
            "Accuracy: 0.9770427031936109\n",
            "ROC AUC: 0.9986347090352056\n"
          ]
        }
      ]
    },
    {
      "cell_type": "code",
      "source": [
        "# Menghitung kurva ROC untuk SVC\n",
        "fpr_svc, tpr_svc, thresholds_svc = roc_curve(y_test, y_prob_svc_baseline)\n",
        "roc_auc_svc = auc(fpr_svc, tpr_svc)\n",
        "\n",
        "# Membuat plot kurva ROC\n",
        "plt.figure(figsize=(8, 6))\n",
        "plt.plot(fpr_svc, tpr_svc, color='blue', label=f'SVC Baseline (AUC = {roc_auc_svc:.2f})')\n",
        "\n",
        "# Menambahkan garis diagonal untuk baseline (model random)\n",
        "plt.plot([0, 1], [0, 1], color='gray', linestyle='--', label='Random Classifier')\n",
        "\n",
        "# Pengaturan plot\n",
        "plt.title('ROC Curve for SVC Baseline', fontsize=16)\n",
        "plt.xlabel('False Positive Rate (FPR)', fontsize=12)\n",
        "plt.ylabel('True Positive Rate (TPR)', fontsize=12)\n",
        "plt.legend(loc='lower right', fontsize=10)\n",
        "plt.grid()\n",
        "plt.show()"
      ],
      "metadata": {
        "colab": {
          "base_uri": "https://localhost:8080/",
          "height": 567
        },
        "id": "xUIAJC6fkU_f",
        "outputId": "66bc1d48-dda5-4916-9e26-62781b14ae23"
      },
      "execution_count": 8,
      "outputs": [
        {
          "output_type": "display_data",
          "data": {
            "text/plain": [
              "<Figure size 800x600 with 1 Axes>"
            ],
            "image/png": "[encoded data removed]"
          },
          "metadata": {}
        }
      ]
    },
    {
      "cell_type": "code",
      "source": [
        "# Confusion Matrix\n",
        "conf_matrix_svc = confusion_matrix(y_test, y_pred_svc_baseline)\n",
        "print(\"Confusion Matrix:\")\n",
        "print(conf_matrix_svc)\n",
        "\n",
        "# Visualisasi Confusion Matrix\n",
        "plt.figure(figsize=(6, 4))\n",
        "sns.heatmap(conf_matrix_svc, annot=True, fmt='d', cmap='Blues',\n",
        "            xticklabels=['Not Hazardous', 'Hazardous'],\n",
        "            yticklabels=['Not Hazardous', 'Hazardous'])\n",
        "plt.xlabel('Predicted Label')\n",
        "plt.ylabel('True Label')\n",
        "plt.title('Confusion Matrix - SVC')\n",
        "plt.show()"
      ],
      "metadata": {
        "colab": {
          "base_uri": "https://localhost:8080/",
          "height": 460
        },
        "id": "FiRZiYUQkZCC",
        "outputId": "06431933-c9d3-4f9d-f4d7-f7ed6a5fa616"
      },
      "execution_count": 9,
      "outputs": [
        {
          "output_type": "stream",
          "name": "stdout",
          "text": [
            "Confusion Matrix:\n",
            "[[51076  2285]\n",
            " [  167 53279]]\n"
          ]
        },
        {
          "output_type": "display_data",
          "data": {
            "text/plain": [
              "<Figure size 600x400 with 2 Axes>"
            ],
            "image/png": "[encoded data removed]"
          },
          "metadata": {}
        }
      ]
    },
    {
      "cell_type": "code",
      "source": [
        "import joblib\n",
        "\n",
        "# Simpan file ke folder di Google Drive\n",
        "joblib.dump(model_svc_baseline, '/content/drive/My Drive/model_svc_baseline.pkl')"
      ],
      "metadata": {
        "colab": {
          "base_uri": "https://localhost:8080/"
        },
        "id": "t3MuGCPfkbpp",
        "outputId": "4406d615-50e4-469a-9c87-10551163a924"
      },
      "execution_count": 11,
      "outputs": [
        {
          "output_type": "execute_result",
          "data": {
            "text/plain": [
              "['/content/drive/My Drive/model_svc_baseline.pkl']"
            ]
          },
          "metadata": {},
          "execution_count": 11
        }
      ]
    }
  ]
}