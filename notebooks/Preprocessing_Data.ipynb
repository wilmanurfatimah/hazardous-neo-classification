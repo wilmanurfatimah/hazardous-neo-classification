{
 "cells": [
  {
   "cell_type": "code",
   "execution_count": 1,
   "metadata": {},
   "outputs": [],
   "source": [
    "# Import Libraries\n",
    "import pandas as pd  # Library untuk manipulasi data dalam bentuk DataFrame\n",
    "import numpy as np  # Library untuk komputasi numerik, operasi array, dan matriks\n",
    "import matplotlib.pyplot as plt  # Library untuk membuat visualisasi grafik\n",
    "import seaborn as sns  # Library untuk visualisasi data statistik\n",
    "import plotly.express as px\n",
    "from sklearn.preprocessing import StandardScaler, LabelEncoder, OneHotEncoder\n",
    "from imblearn.over_sampling import SMOTE  # Teknik untuk menangani data yang tidak seimbang dengan oversampling kelas minoritas"
   ]
  },
  {
   "cell_type": "code",
   "execution_count": 2,
   "metadata": {},
   "outputs": [
    {
     "data": {
      "text/html": [
       "<div>\n",
       "<style scoped>\n",
       "    .dataframe tbody tr th:only-of-type {\n",
       "        vertical-align: middle;\n",
       "    }\n",
       "\n",
       "    .dataframe tbody tr th {\n",
       "        vertical-align: top;\n",
       "    }\n",
       "\n",
       "    .dataframe thead th {\n",
       "        text-align: right;\n",
       "    }\n",
       "</style>\n",
       "<table border=\"1\" class=\"dataframe\">\n",
       "  <thead>\n",
       "    <tr style=\"text-align: right;\">\n",
       "      <th></th>\n",
       "      <th>neo_id</th>\n",
       "      <th>absolute_magnitude</th>\n",
       "      <th>estimated_diameter_min</th>\n",
       "      <th>estimated_diameter_max</th>\n",
       "      <th>orbiting_body</th>\n",
       "      <th>relative_velocity</th>\n",
       "      <th>miss_distance</th>\n",
       "      <th>is_hazardous</th>\n",
       "      <th>full_name</th>\n",
       "      <th>moid</th>\n",
       "      <th>last_obs</th>\n",
       "    </tr>\n",
       "  </thead>\n",
       "  <tbody>\n",
       "    <tr>\n",
       "      <th>0</th>\n",
       "      <td>2162117</td>\n",
       "      <td>19.14</td>\n",
       "      <td>0.394962</td>\n",
       "      <td>0.883161</td>\n",
       "      <td>Earth</td>\n",
       "      <td>71745.401048</td>\n",
       "      <td>5.814362e+07</td>\n",
       "      <td>False</td>\n",
       "      <td>162117 (1998 SD15)</td>\n",
       "      <td>0.1110</td>\n",
       "      <td>2018-08-12</td>\n",
       "    </tr>\n",
       "    <tr>\n",
       "      <th>1</th>\n",
       "      <td>2349507</td>\n",
       "      <td>18.50</td>\n",
       "      <td>0.530341</td>\n",
       "      <td>1.185878</td>\n",
       "      <td>Earth</td>\n",
       "      <td>109949.757148</td>\n",
       "      <td>5.580105e+07</td>\n",
       "      <td>True</td>\n",
       "      <td>349507 (2008 QY)</td>\n",
       "      <td>0.0307</td>\n",
       "      <td>2023-12-12</td>\n",
       "    </tr>\n",
       "    <tr>\n",
       "      <th>2</th>\n",
       "      <td>2455415</td>\n",
       "      <td>21.45</td>\n",
       "      <td>0.136319</td>\n",
       "      <td>0.304818</td>\n",
       "      <td>Earth</td>\n",
       "      <td>24865.506798</td>\n",
       "      <td>6.720689e+07</td>\n",
       "      <td>False</td>\n",
       "      <td>455415 (2003 GA)</td>\n",
       "      <td>0.0618</td>\n",
       "      <td>2022-11-16</td>\n",
       "    </tr>\n",
       "    <tr>\n",
       "      <th>3</th>\n",
       "      <td>3132126</td>\n",
       "      <td>20.63</td>\n",
       "      <td>0.198863</td>\n",
       "      <td>0.444672</td>\n",
       "      <td>Earth</td>\n",
       "      <td>78890.076805</td>\n",
       "      <td>3.039644e+07</td>\n",
       "      <td>False</td>\n",
       "      <td>(2002 PB)</td>\n",
       "      <td>0.1670</td>\n",
       "      <td>2022-08-31</td>\n",
       "    </tr>\n",
       "    <tr>\n",
       "      <th>4</th>\n",
       "      <td>3557844</td>\n",
       "      <td>22.70</td>\n",
       "      <td>0.076658</td>\n",
       "      <td>0.171412</td>\n",
       "      <td>Earth</td>\n",
       "      <td>56036.519484</td>\n",
       "      <td>6.311863e+07</td>\n",
       "      <td>False</td>\n",
       "      <td>(2011 DW)</td>\n",
       "      <td>0.0349</td>\n",
       "      <td>2021-03-06</td>\n",
       "    </tr>\n",
       "  </tbody>\n",
       "</table>\n",
       "</div>"
      ],
      "text/plain": [
       "    neo_id  absolute_magnitude  estimated_diameter_min  \\\n",
       "0  2162117               19.14                0.394962   \n",
       "1  2349507               18.50                0.530341   \n",
       "2  2455415               21.45                0.136319   \n",
       "3  3132126               20.63                0.198863   \n",
       "4  3557844               22.70                0.076658   \n",
       "\n",
       "   estimated_diameter_max orbiting_body  relative_velocity  miss_distance  \\\n",
       "0                0.883161         Earth       71745.401048   5.814362e+07   \n",
       "1                1.185878         Earth      109949.757148   5.580105e+07   \n",
       "2                0.304818         Earth       24865.506798   6.720689e+07   \n",
       "3                0.444672         Earth       78890.076805   3.039644e+07   \n",
       "4                0.171412         Earth       56036.519484   6.311863e+07   \n",
       "\n",
       "   is_hazardous           full_name    moid    last_obs  \n",
       "0         False  162117 (1998 SD15)  0.1110  2018-08-12  \n",
       "1          True    349507 (2008 QY)  0.0307  2023-12-12  \n",
       "2         False    455415 (2003 GA)  0.0618  2022-11-16  \n",
       "3         False           (2002 PB)  0.1670  2022-08-31  \n",
       "4         False           (2011 DW)  0.0349  2021-03-06  "
      ]
     },
     "execution_count": 2,
     "metadata": {},
     "output_type": "execute_result"
    }
   ],
   "source": [
    "# Load Data\n",
    "df = pd.read_csv(r'C:\\Users\\ASUS\\OneDrive\\ドキュメント\\Folder skripsi\\SKRIPSI\\Near_Earth_Objects_Dataset.csv')\n",
    "df.head()"
   ]
  },
  {
   "cell_type": "code",
   "execution_count": 3,
   "metadata": {},
   "outputs": [
    {
     "name": "stdout",
     "output_type": "stream",
     "text": [
      "Jumlah data (baris, kolom): (302650, 11)\n"
     ]
    }
   ],
   "source": [
    "# Menampilkan jumlah data (jumlah baris dan kolom)\n",
    "print(\"Jumlah data (baris, kolom):\", df.shape)"
   ]
  },
  {
   "cell_type": "code",
   "execution_count": 4,
   "metadata": {},
   "outputs": [
    {
     "name": "stdout",
     "output_type": "stream",
     "text": [
      "<class 'pandas.core.frame.DataFrame'>\n",
      "RangeIndex: 302650 entries, 0 to 302649\n",
      "Data columns (total 11 columns):\n",
      " #   Column                  Non-Null Count   Dtype  \n",
      "---  ------                  --------------   -----  \n",
      " 0   neo_id                  302650 non-null  int64  \n",
      " 1   absolute_magnitude      302649 non-null  float64\n",
      " 2   estimated_diameter_min  302649 non-null  float64\n",
      " 3   estimated_diameter_max  302649 non-null  float64\n",
      " 4   orbiting_body           302650 non-null  object \n",
      " 5   relative_velocity       302650 non-null  float64\n",
      " 6   miss_distance           302650 non-null  float64\n",
      " 7   is_hazardous            302650 non-null  bool   \n",
      " 8   full_name               302650 non-null  object \n",
      " 9   moid                    302650 non-null  float64\n",
      " 10  last_obs                302650 non-null  object \n",
      "dtypes: bool(1), float64(6), int64(1), object(3)\n",
      "memory usage: 23.4+ MB\n"
     ]
    }
   ],
   "source": [
    "df.info()"
   ]
  },
  {
   "cell_type": "code",
   "execution_count": 5,
   "metadata": {},
   "outputs": [
    {
     "data": {
      "text/html": [
       "<div>\n",
       "<style scoped>\n",
       "    .dataframe tbody tr th:only-of-type {\n",
       "        vertical-align: middle;\n",
       "    }\n",
       "\n",
       "    .dataframe tbody tr th {\n",
       "        vertical-align: top;\n",
       "    }\n",
       "\n",
       "    .dataframe thead th {\n",
       "        text-align: right;\n",
       "    }\n",
       "</style>\n",
       "<table border=\"1\" class=\"dataframe\">\n",
       "  <thead>\n",
       "    <tr style=\"text-align: right;\">\n",
       "      <th></th>\n",
       "      <th>neo_id</th>\n",
       "      <th>absolute_magnitude</th>\n",
       "      <th>estimated_diameter_min</th>\n",
       "      <th>estimated_diameter_max</th>\n",
       "      <th>relative_velocity</th>\n",
       "      <th>miss_distance</th>\n",
       "      <th>moid</th>\n",
       "    </tr>\n",
       "  </thead>\n",
       "  <tbody>\n",
       "    <tr>\n",
       "      <th>count</th>\n",
       "      <td>3.026500e+05</td>\n",
       "      <td>302649.000000</td>\n",
       "      <td>302649.000000</td>\n",
       "      <td>302649.000000</td>\n",
       "      <td>302650.000000</td>\n",
       "      <td>3.026500e+05</td>\n",
       "      <td>3.026500e+05</td>\n",
       "    </tr>\n",
       "    <tr>\n",
       "      <th>mean</th>\n",
       "      <td>1.797544e+07</td>\n",
       "      <td>23.167612</td>\n",
       "      <td>0.138659</td>\n",
       "      <td>0.310052</td>\n",
       "      <td>50424.260835</td>\n",
       "      <td>4.113047e+07</td>\n",
       "      <td>7.076597e-02</td>\n",
       "    </tr>\n",
       "    <tr>\n",
       "      <th>std</th>\n",
       "      <td>2.302834e+07</td>\n",
       "      <td>2.866935</td>\n",
       "      <td>0.257564</td>\n",
       "      <td>0.575931</td>\n",
       "      <td>26098.501344</td>\n",
       "      <td>2.090881e+07</td>\n",
       "      <td>8.386107e-02</td>\n",
       "    </tr>\n",
       "    <tr>\n",
       "      <th>min</th>\n",
       "      <td>2.000433e+06</td>\n",
       "      <td>10.410000</td>\n",
       "      <td>0.000511</td>\n",
       "      <td>0.001143</td>\n",
       "      <td>203.346433</td>\n",
       "      <td>6.745533e+03</td>\n",
       "      <td>1.520000e-07</td>\n",
       "    </tr>\n",
       "    <tr>\n",
       "      <th>25%</th>\n",
       "      <td>3.409434e+06</td>\n",
       "      <td>21.000000</td>\n",
       "      <td>0.023150</td>\n",
       "      <td>0.051765</td>\n",
       "      <td>30226.943368</td>\n",
       "      <td>2.432873e+07</td>\n",
       "      <td>1.050000e-02</td>\n",
       "    </tr>\n",
       "    <tr>\n",
       "      <th>50%</th>\n",
       "      <td>3.750662e+06</td>\n",
       "      <td>23.100000</td>\n",
       "      <td>0.063761</td>\n",
       "      <td>0.142574</td>\n",
       "      <td>46930.406291</td>\n",
       "      <td>4.278890e+07</td>\n",
       "      <td>3.540000e-02</td>\n",
       "    </tr>\n",
       "    <tr>\n",
       "      <th>75%</th>\n",
       "      <td>5.405478e+07</td>\n",
       "      <td>25.300000</td>\n",
       "      <td>0.167708</td>\n",
       "      <td>0.375008</td>\n",
       "      <td>65893.184960</td>\n",
       "      <td>5.911675e+07</td>\n",
       "      <td>1.030000e-01</td>\n",
       "    </tr>\n",
       "    <tr>\n",
       "      <th>max</th>\n",
       "      <td>5.445588e+07</td>\n",
       "      <td>33.580000</td>\n",
       "      <td>22.006703</td>\n",
       "      <td>49.208483</td>\n",
       "      <td>279142.249206</td>\n",
       "      <td>7.479865e+07</td>\n",
       "      <td>5.040000e-01</td>\n",
       "    </tr>\n",
       "  </tbody>\n",
       "</table>\n",
       "</div>"
      ],
      "text/plain": [
       "             neo_id  absolute_magnitude  estimated_diameter_min  \\\n",
       "count  3.026500e+05       302649.000000           302649.000000   \n",
       "mean   1.797544e+07           23.167612                0.138659   \n",
       "std    2.302834e+07            2.866935                0.257564   \n",
       "min    2.000433e+06           10.410000                0.000511   \n",
       "25%    3.409434e+06           21.000000                0.023150   \n",
       "50%    3.750662e+06           23.100000                0.063761   \n",
       "75%    5.405478e+07           25.300000                0.167708   \n",
       "max    5.445588e+07           33.580000               22.006703   \n",
       "\n",
       "       estimated_diameter_max  relative_velocity  miss_distance          moid  \n",
       "count           302649.000000      302650.000000   3.026500e+05  3.026500e+05  \n",
       "mean                 0.310052       50424.260835   4.113047e+07  7.076597e-02  \n",
       "std                  0.575931       26098.501344   2.090881e+07  8.386107e-02  \n",
       "min                  0.001143         203.346433   6.745533e+03  1.520000e-07  \n",
       "25%                  0.051765       30226.943368   2.432873e+07  1.050000e-02  \n",
       "50%                  0.142574       46930.406291   4.278890e+07  3.540000e-02  \n",
       "75%                  0.375008       65893.184960   5.911675e+07  1.030000e-01  \n",
       "max                 49.208483      279142.249206   7.479865e+07  5.040000e-01  "
      ]
     },
     "execution_count": 5,
     "metadata": {},
     "output_type": "execute_result"
    }
   ],
   "source": [
    "df.describe()"
   ]
  },
  {
   "cell_type": "code",
   "execution_count": 6,
   "metadata": {},
   "outputs": [
    {
     "name": "stdout",
     "output_type": "stream",
     "text": [
      "Jumlah missing values per kolom:\n",
      " neo_id                    0\n",
      "absolute_magnitude        1\n",
      "estimated_diameter_min    1\n",
      "estimated_diameter_max    1\n",
      "orbiting_body             0\n",
      "relative_velocity         0\n",
      "miss_distance             0\n",
      "is_hazardous              0\n",
      "full_name                 0\n",
      "moid                      0\n",
      "last_obs                  0\n",
      "dtype: int64\n",
      "Jumlah duplikat: 0\n"
     ]
    }
   ],
   "source": [
    "# Menampilkan jumlah nilai yang hilang pada setiap kolom\n",
    "print(\"Jumlah missing values per kolom:\\n\", df.isnull().sum())\n",
    "\n",
    "# Menghitung jumlah duplikat\n",
    "duplicate_count = df.duplicated().sum()\n",
    "print(f'Jumlah duplikat: {duplicate_count}')"
   ]
  },
  {
   "cell_type": "code",
   "execution_count": 7,
   "metadata": {},
   "outputs": [
    {
     "name": "stdout",
     "output_type": "stream",
     "text": [
      "neo_id                    0\n",
      "absolute_magnitude        0\n",
      "estimated_diameter_min    0\n",
      "estimated_diameter_max    0\n",
      "orbiting_body             0\n",
      "relative_velocity         0\n",
      "miss_distance             0\n",
      "is_hazardous              0\n",
      "full_name                 0\n",
      "moid                      0\n",
      "last_obs                  0\n",
      "dtype: int64\n"
     ]
    }
   ],
   "source": [
    "# Hapus baris yang memiliki missing values\n",
    "df.dropna(subset=['absolute_magnitude', 'estimated_diameter_min', 'estimated_diameter_max'], inplace=True)\n",
    "\n",
    "# Cek kembali jumlah missing values\n",
    "print(df.isnull().sum())"
   ]
  },
  {
   "cell_type": "code",
   "execution_count": 8,
   "metadata": {},
   "outputs": [
    {
     "name": "stdout",
     "output_type": "stream",
     "text": [
      "NEO yang terakhir diamati:\n",
      "neo_id                              3616697\n",
      "absolute_magnitude                    21.36\n",
      "estimated_diameter_min             0.142087\n",
      "estimated_diameter_max             0.317717\n",
      "orbiting_body                         Earth\n",
      "relative_velocity              71327.583068\n",
      "miss_distance               55774305.852556\n",
      "is_hazardous                          False\n",
      "full_name                        (2012 VN6)\n",
      "moid                                  0.216\n",
      "last_obs                         2025-01-05\n",
      "Name: 63, dtype: object\n"
     ]
    }
   ],
   "source": [
    "# Cari NEO dengan pengamatan terakhir\n",
    "last_observed_neo = df.loc[df['last_obs'].idxmax()]\n",
    "print(\"NEO yang terakhir diamati:\")\n",
    "print(last_observed_neo)"
   ]
  },
  {
   "cell_type": "code",
   "execution_count": 9,
   "metadata": {},
   "outputs": [
    {
     "data": {
      "image/png": "[encoded data removed]",
      "text/plain": [
       "<Figure size 1000x800 with 9 Axes>"
      ]
     },
     "metadata": {},
     "output_type": "display_data"
    }
   ],
   "source": [
    "# Membuat histogram untuk semua kolom numerik\n",
    "df.hist(figsize=(10, 8), bins=20)\n",
    "plt.tight_layout()\n",
    "plt.show()"
   ]
  },
  {
   "cell_type": "code",
   "execution_count": 10,
   "metadata": {},
   "outputs": [
    {
     "data": {
      "application/vnd.plotly.v1+json": {
       "config": {
        "plotlyServerURL": "https://plot.ly"
       },
       "data": [
        {
         "alignmentgroup": "True",
         "hovertemplate": "Miss Distance (km)=%{x}<br>NEO Name=%{y}<extra></extra>",
         "legendgroup": "",
         "marker": {
          "color": "#1DB954",
          "pattern": {
           "shape": ""
          }
         },
         "name": "",
         "offsetgroup": "",
         "orientation": "h",
         "showlegend": false,
         "textposition": "auto",
         "texttemplate": "%{x}",
         "type": "bar",
         "x": [
          6745.532515957,
          9316.925424026,
          9426.685381245,
          10361.043757691,
          11851.666853945,
          12638.162695683,
          12913.13854053,
          13403.654996473,
          13949.178589215,
          14305.460876407
         ],
         "xaxis": "x",
         "y": [
          "       (2020 VT4)",
          "       (2020 QG)",
          "       (2021 UA1)",
          "       (2023 RS)",
          "       (2011 CQ1)",
          "       (2008 TS26)",
          "       (2004 FU162)",
          "       (2020 JJ)",
          "       (2023 UR10)",
          "       (2016 DY30)"
         ],
         "yaxis": "y"
        }
       ],
       "layout": {
        "barmode": "relative",
        "height": 800,
        "legend": {
         "tracegroupgap": 0
        },
        "template": {
         "data": {
          "bar": [
           {
            "error_x": {
             "color": "#2a3f5f"
            },
            "error_y": {
             "color": "#2a3f5f"
            },
            "marker": {
             "line": {
              "color": "#E5ECF6",
              "width": 0.5
             },
             "pattern": {
              "fillmode": "overlay",
              "size": 10,
              "solidity": 0.2
             }
            },
            "type": "bar"
           }
          ],
          "barpolar": [
           {
            "marker": {
             "line": {
              "color": "#E5ECF6",
              "width": 0.5
             },
             "pattern": {
              "fillmode": "overlay",
              "size": 10,
              "solidity": 0.2
             }
            },
            "type": "barpolar"
           }
          ],
          "carpet": [
           {
            "aaxis": {
             "endlinecolor": "#2a3f5f",
             "gridcolor": "white",
             "linecolor": "white",
             "minorgridcolor": "white",
             "startlinecolor": "#2a3f5f"
            },
            "baxis": {
             "endlinecolor": "#2a3f5f",
             "gridcolor": "white",
             "linecolor": "white",
             "minorgridcolor": "white",
             "startlinecolor": "#2a3f5f"
            },
            "type": "carpet"
           }
          ],
          "choropleth": [
           {
            "colorbar": {
             "outlinewidth": 0,
             "ticks": ""
            },
            "type": "choropleth"
           }
          ],
          "contour": [
           {
            "colorbar": {
             "outlinewidth": 0,
             "ticks": ""
            },
            "colorscale": [
             [
              0,
              "#0d0887"
             ],
             [
              0.1111111111111111,
              "#46039f"
             ],
             [
              0.2222222222222222,
              "#7201a8"
             ],
             [
              0.3333333333333333,
              "#9c179e"
             ],
             [
              0.4444444444444444,
              "#bd3786"
             ],
             [
              0.5555555555555556,
              "#d8576b"
             ],
             [
              0.6666666666666666,
              "#ed7953"
             ],
             [
              0.7777777777777778,
              "#fb9f3a"
             ],
             [
              0.8888888888888888,
              "#fdca26"
             ],
             [
              1,
              "#f0f921"
             ]
            ],
            "type": "contour"
           }
          ],
          "contourcarpet": [
           {
            "colorbar": {
             "outlinewidth": 0,
             "ticks": ""
            },
            "type": "contourcarpet"
           }
          ],
          "heatmap": [
           {
            "colorbar": {
             "outlinewidth": 0,
             "ticks": ""
            },
            "colorscale": [
             [
              0,
              "#0d0887"
             ],
             [
              0.1111111111111111,
              "#46039f"
             ],
             [
              0.2222222222222222,
              "#7201a8"
             ],
             [
              0.3333333333333333,
              "#9c179e"
             ],
             [
              0.4444444444444444,
              "#bd3786"
             ],
             [
              0.5555555555555556,
              "#d8576b"
             ],
             [
              0.6666666666666666,
              "#ed7953"
             ],
             [
              0.7777777777777778,
              "#fb9f3a"
             ],
             [
              0.8888888888888888,
              "#fdca26"
             ],
             [
              1,
              "#f0f921"
             ]
            ],
            "type": "heatmap"
           }
          ],
          "heatmapgl": [
           {
            "colorbar": {
             "outlinewidth": 0,
             "ticks": ""
            },
            "colorscale": [
             [
              0,
              "#0d0887"
             ],
             [
              0.1111111111111111,
              "#46039f"
             ],
             [
              0.2222222222222222,
              "#7201a8"
             ],
             [
              0.3333333333333333,
              "#9c179e"
             ],
             [
              0.4444444444444444,
              "#bd3786"
             ],
             [
              0.5555555555555556,
              "#d8576b"
             ],
             [
              0.6666666666666666,
              "#ed7953"
             ],
             [
              0.7777777777777778,
              "#fb9f3a"
             ],
             [
              0.8888888888888888,
              "#fdca26"
             ],
             [
              1,
              "#f0f921"
             ]
            ],
            "type": "heatmapgl"
           }
          ],
          "histogram": [
           {
            "marker": {
             "pattern": {
              "fillmode": "overlay",
              "size": 10,
              "solidity": 0.2
             }
            },
            "type": "histogram"
           }
          ],
          "histogram2d": [
           {
            "colorbar": {
             "outlinewidth": 0,
             "ticks": ""
            },
            "colorscale": [
             [
              0,
              "#0d0887"
             ],
             [
              0.1111111111111111,
              "#46039f"
             ],
             [
              0.2222222222222222,
              "#7201a8"
             ],
             [
              0.3333333333333333,
              "#9c179e"
             ],
             [
              0.4444444444444444,
              "#bd3786"
             ],
             [
              0.5555555555555556,
              "#d8576b"
             ],
             [
              0.6666666666666666,
              "#ed7953"
             ],
             [
              0.7777777777777778,
              "#fb9f3a"
             ],
             [
              0.8888888888888888,
              "#fdca26"
             ],
             [
              1,
              "#f0f921"
             ]
            ],
            "type": "histogram2d"
           }
          ],
          "histogram2dcontour": [
           {
            "colorbar": {
             "outlinewidth": 0,
             "ticks": ""
            },
            "colorscale": [
             [
              0,
              "#0d0887"
             ],
             [
              0.1111111111111111,
              "#46039f"
             ],
             [
              0.2222222222222222,
              "#7201a8"
             ],
             [
              0.3333333333333333,
              "#9c179e"
             ],
             [
              0.4444444444444444,
              "#bd3786"
             ],
             [
              0.5555555555555556,
              "#d8576b"
             ],
             [
              0.6666666666666666,
              "#ed7953"
             ],
             [
              0.7777777777777778,
              "#fb9f3a"
             ],
             [
              0.8888888888888888,
              "#fdca26"
             ],
             [
              1,
              "#f0f921"
             ]
            ],
            "type": "histogram2dcontour"
           }
          ],
          "mesh3d": [
           {
            "colorbar": {
             "outlinewidth": 0,
             "ticks": ""
            },
            "type": "mesh3d"
           }
          ],
          "parcoords": [
           {
            "line": {
             "colorbar": {
              "outlinewidth": 0,
              "ticks": ""
             }
            },
            "type": "parcoords"
           }
          ],
          "pie": [
           {
            "automargin": true,
            "type": "pie"
           }
          ],
          "scatter": [
           {
            "fillpattern": {
             "fillmode": "overlay",
             "size": 10,
             "solidity": 0.2
            },
            "type": "scatter"
           }
          ],
          "scatter3d": [
           {
            "line": {
             "colorbar": {
              "outlinewidth": 0,
              "ticks": ""
             }
            },
            "marker": {
             "colorbar": {
              "outlinewidth": 0,
              "ticks": ""
             }
            },
            "type": "scatter3d"
           }
          ],
          "scattercarpet": [
           {
            "marker": {
             "colorbar": {
              "outlinewidth": 0,
              "ticks": ""
             }
            },
            "type": "scattercarpet"
           }
          ],
          "scattergeo": [
           {
            "marker": {
             "colorbar": {
              "outlinewidth": 0,
              "ticks": ""
             }
            },
            "type": "scattergeo"
           }
          ],
          "scattergl": [
           {
            "marker": {
             "colorbar": {
              "outlinewidth": 0,
              "ticks": ""
             }
            },
            "type": "scattergl"
           }
          ],
          "scattermapbox": [
           {
            "marker": {
             "colorbar": {
              "outlinewidth": 0,
              "ticks": ""
             }
            },
            "type": "scattermapbox"
           }
          ],
          "scatterpolar": [
           {
            "marker": {
             "colorbar": {
              "outlinewidth": 0,
              "ticks": ""
             }
            },
            "type": "scatterpolar"
           }
          ],
          "scatterpolargl": [
           {
            "marker": {
             "colorbar": {
              "outlinewidth": 0,
              "ticks": ""
             }
            },
            "type": "scatterpolargl"
           }
          ],
          "scatterternary": [
           {
            "marker": {
             "colorbar": {
              "outlinewidth": 0,
              "ticks": ""
             }
            },
            "type": "scatterternary"
           }
          ],
          "surface": [
           {
            "colorbar": {
             "outlinewidth": 0,
             "ticks": ""
            },
            "colorscale": [
             [
              0,
              "#0d0887"
             ],
             [
              0.1111111111111111,
              "#46039f"
             ],
             [
              0.2222222222222222,
              "#7201a8"
             ],
             [
              0.3333333333333333,
              "#9c179e"
             ],
             [
              0.4444444444444444,
              "#bd3786"
             ],
             [
              0.5555555555555556,
              "#d8576b"
             ],
             [
              0.6666666666666666,
              "#ed7953"
             ],
             [
              0.7777777777777778,
              "#fb9f3a"
             ],
             [
              0.8888888888888888,
              "#fdca26"
             ],
             [
              1,
              "#f0f921"
             ]
            ],
            "type": "surface"
           }
          ],
          "table": [
           {
            "cells": {
             "fill": {
              "color": "#EBF0F8"
             },
             "line": {
              "color": "white"
             }
            },
            "header": {
             "fill": {
              "color": "#C8D4E3"
             },
             "line": {
              "color": "white"
             }
            },
            "type": "table"
           }
          ]
         },
         "layout": {
          "annotationdefaults": {
           "arrowcolor": "#2a3f5f",
           "arrowhead": 0,
           "arrowwidth": 1
          },
          "autotypenumbers": "strict",
          "coloraxis": {
           "colorbar": {
            "outlinewidth": 0,
            "ticks": ""
           }
          },
          "colorscale": {
           "diverging": [
            [
             0,
             "#8e0152"
            ],
            [
             0.1,
             "#c51b7d"
            ],
            [
             0.2,
             "#de77ae"
            ],
            [
             0.3,
             "#f1b6da"
            ],
            [
             0.4,
             "#fde0ef"
            ],
            [
             0.5,
             "#f7f7f7"
            ],
            [
             0.6,
             "#e6f5d0"
            ],
            [
             0.7,
             "#b8e186"
            ],
            [
             0.8,
             "#7fbc41"
            ],
            [
             0.9,
             "#4d9221"
            ],
            [
             1,
             "#276419"
            ]
           ],
           "sequential": [
            [
             0,
             "#0d0887"
            ],
            [
             0.1111111111111111,
             "#46039f"
            ],
            [
             0.2222222222222222,
             "#7201a8"
            ],
            [
             0.3333333333333333,
             "#9c179e"
            ],
            [
             0.4444444444444444,
             "#bd3786"
            ],
            [
             0.5555555555555556,
             "#d8576b"
            ],
            [
             0.6666666666666666,
             "#ed7953"
            ],
            [
             0.7777777777777778,
             "#fb9f3a"
            ],
            [
             0.8888888888888888,
             "#fdca26"
            ],
            [
             1,
             "#f0f921"
            ]
           ],
           "sequentialminus": [
            [
             0,
             "#0d0887"
            ],
            [
             0.1111111111111111,
             "#46039f"
            ],
            [
             0.2222222222222222,
             "#7201a8"
            ],
            [
             0.3333333333333333,
             "#9c179e"
            ],
            [
             0.4444444444444444,
             "#bd3786"
            ],
            [
             0.5555555555555556,
             "#d8576b"
            ],
            [
             0.6666666666666666,
             "#ed7953"
            ],
            [
             0.7777777777777778,
             "#fb9f3a"
            ],
            [
             0.8888888888888888,
             "#fdca26"
            ],
            [
             1,
             "#f0f921"
            ]
           ]
          },
          "colorway": [
           "#636efa",
           "#EF553B",
           "#00cc96",
           "#ab63fa",
           "#FFA15A",
           "#19d3f3",
           "#FF6692",
           "#B6E880",
           "#FF97FF",
           "#FECB52"
          ],
          "font": {
           "color": "#2a3f5f"
          },
          "geo": {
           "bgcolor": "white",
           "lakecolor": "white",
           "landcolor": "#E5ECF6",
           "showlakes": true,
           "showland": true,
           "subunitcolor": "white"
          },
          "hoverlabel": {
           "align": "left"
          },
          "hovermode": "closest",
          "mapbox": {
           "style": "light"
          },
          "paper_bgcolor": "white",
          "plot_bgcolor": "#E5ECF6",
          "polar": {
           "angularaxis": {
            "gridcolor": "white",
            "linecolor": "white",
            "ticks": ""
           },
           "bgcolor": "#E5ECF6",
           "radialaxis": {
            "gridcolor": "white",
            "linecolor": "white",
            "ticks": ""
           }
          },
          "scene": {
           "xaxis": {
            "backgroundcolor": "#E5ECF6",
            "gridcolor": "white",
            "gridwidth": 2,
            "linecolor": "white",
            "showbackground": true,
            "ticks": "",
            "zerolinecolor": "white"
           },
           "yaxis": {
            "backgroundcolor": "#E5ECF6",
            "gridcolor": "white",
            "gridwidth": 2,
            "linecolor": "white",
            "showbackground": true,
            "ticks": "",
            "zerolinecolor": "white"
           },
           "zaxis": {
            "backgroundcolor": "#E5ECF6",
            "gridcolor": "white",
            "gridwidth": 2,
            "linecolor": "white",
            "showbackground": true,
            "ticks": "",
            "zerolinecolor": "white"
           }
          },
          "shapedefaults": {
           "line": {
            "color": "#2a3f5f"
           }
          },
          "ternary": {
           "aaxis": {
            "gridcolor": "white",
            "linecolor": "white",
            "ticks": ""
           },
           "baxis": {
            "gridcolor": "white",
            "linecolor": "white",
            "ticks": ""
           },
           "bgcolor": "#E5ECF6",
           "caxis": {
            "gridcolor": "white",
            "linecolor": "white",
            "ticks": ""
           }
          },
          "title": {
           "x": 0.05
          },
          "xaxis": {
           "automargin": true,
           "gridcolor": "white",
           "linecolor": "white",
           "ticks": "",
           "title": {
            "standoff": 15
           },
           "zerolinecolor": "white",
           "zerolinewidth": 2
          },
          "yaxis": {
           "automargin": true,
           "gridcolor": "white",
           "linecolor": "white",
           "ticks": "",
           "title": {
            "standoff": 15
           },
           "zerolinecolor": "white",
           "zerolinewidth": 2
          }
         }
        },
        "title": {
         "text": "Top 10 Closest NEOs to Earth"
        },
        "width": 1200,
        "xaxis": {
         "anchor": "y",
         "domain": [
          0,
          1
         ],
         "title": {
          "text": "Miss Distance (km)"
         }
        },
        "yaxis": {
         "anchor": "x",
         "domain": [
          0,
          1
         ],
         "title": {
          "text": "NEO Name"
         }
        }
       }
      }
     },
     "metadata": {},
     "output_type": "display_data"
    }
   ],
   "source": [
    "top_10_closest = df.nsmallest(10, 'miss_distance')\n",
    "\n",
    "fig5 = px.bar(top_10_closest, \n",
    "              x='miss_distance', \n",
    "              y='full_name', \n",
    "              title='Top 10 Closest NEOs to Earth', \n",
    "              text_auto=True,\n",
    "              labels={'miss_distance': 'Miss Distance (km)', 'full_name': 'NEO Name'},\n",
    "              color_discrete_sequence=['#1DB954'],\n",
    "              width=1200, \n",
    "              height=800  )\n",
    "\n",
    "fig5.show()"
   ]
  },
  {
   "cell_type": "code",
   "execution_count": 11,
   "metadata": {},
   "outputs": [
    {
     "name": "stdout",
     "output_type": "stream",
     "text": [
      "                        absolute_magnitude  estimated_diameter_min  \\\n",
      "absolute_magnitude                1.000000               -0.626810   \n",
      "estimated_diameter_min           -0.626810                1.000000   \n",
      "estimated_diameter_max           -0.626810                1.000000   \n",
      "relative_velocity                -0.340918                0.236537   \n",
      "miss_distance                    -0.207899                0.119994   \n",
      "moid                             -0.533678                0.318012   \n",
      "\n",
      "                        estimated_diameter_max  relative_velocity  \\\n",
      "absolute_magnitude                   -0.626810          -0.340918   \n",
      "estimated_diameter_min                1.000000           0.236537   \n",
      "estimated_diameter_max                1.000000           0.236537   \n",
      "relative_velocity                     0.236537           1.000000   \n",
      "miss_distance                         0.119994           0.330628   \n",
      "moid                                  0.318012           0.069681   \n",
      "\n",
      "                        miss_distance      moid  \n",
      "absolute_magnitude          -0.207899 -0.533678  \n",
      "estimated_diameter_min       0.119994  0.318012  \n",
      "estimated_diameter_max       0.119994  0.318012  \n",
      "relative_velocity            0.330628  0.069681  \n",
      "miss_distance                1.000000  0.263382  \n",
      "moid                         0.263382  1.000000  \n"
     ]
    },
    {
     "data": {
      "image/png": "[encoded data removed]",
      "text/plain": [
       "<Figure size 1000x800 with 2 Axes>"
      ]
     },
     "metadata": {},
     "output_type": "display_data"
    }
   ],
   "source": [
    "# Pilih hanya kolom numerik yang relevan untuk korelasi\n",
    "numeric_columns = [\n",
    "    'absolute_magnitude', \n",
    "    'estimated_diameter_min', \n",
    "    'estimated_diameter_max', \n",
    "    'relative_velocity', \n",
    "    'miss_distance', \n",
    "    'moid'\n",
    "]\n",
    "\n",
    "# Ambil subset DataFrame hanya untuk kolom numerik yang relevan\n",
    "numeric_data = df[numeric_columns]\n",
    "\n",
    "# Hitung matriks korelasi\n",
    "correlation_matrix = numeric_data.corr()\n",
    "\n",
    "# Tampilkan matriks korelasi\n",
    "print(correlation_matrix)\n",
    "\n",
    "# Visualisasi dengan heatmap\n",
    "plt.figure(figsize=(10, 8))\n",
    "sns.heatmap(correlation_matrix, annot=True, fmt='.2f', cmap='coolwarm', cbar=True)\n",
    "plt.title(\"Correlation Matrix\")\n",
    "plt.show()"
   ]
  },
  {
   "cell_type": "code",
   "execution_count": 12,
   "metadata": {},
   "outputs": [
    {
     "data": {
      "image/png": "[encoded data removed]",
      "text/plain": [
       "<Figure size 1500x1000 with 6 Axes>"
      ]
     },
     "metadata": {},
     "output_type": "display_data"
    }
   ],
   "source": [
    "# Plot boxplot untuk setiap kolom\n",
    "plt.figure(figsize=(15, 10))\n",
    "for i, col in enumerate(numeric_columns, 1):\n",
    "    plt.subplot(2, 3, i)  # Membuat grid subplot 2x3\n",
    "    sns.boxplot(y=df[col], color='skyblue')\n",
    "    plt.title(f'Boxplot of {col}')\n",
    "    plt.ylabel(col)\n",
    "\n",
    "plt.tight_layout()\n",
    "plt.show()"
   ]
  },
  {
   "cell_type": "code",
   "execution_count": 13,
   "metadata": {},
   "outputs": [
    {
     "name": "stdout",
     "output_type": "stream",
     "text": [
      "is_hazardous\n",
      "False    267017\n",
      "True      35632\n",
      "Name: count, dtype: int64\n"
     ]
    },
    {
     "data": {
      "image/png": "[encoded data removed]",
      "text/plain": [
       "<Figure size 640x480 with 1 Axes>"
      ]
     },
     "metadata": {},
     "output_type": "display_data"
    }
   ],
   "source": [
    "# Cek distribusi label target (y)\n",
    "# 'Hazardous' adalah target label\n",
    "print(df['is_hazardous'].value_counts())\n",
    "sns.countplot(x='is_hazardous', data=df)\n",
    "plt.title('Distribution of Hazardous Asteroids')\n",
    "plt.show()"
   ]
  },
  {
   "cell_type": "code",
   "execution_count": 14,
   "metadata": {},
   "outputs": [],
   "source": [
    "# Transformasi logaritmik pada kolom yang skewed\n",
    "df['moid'] = np.log1p(df['moid'])\n",
    "df['estimated_diameter_min'] = np.log1p(df['estimated_diameter_min'])\n",
    "df['estimated_diameter_max'] = np.log1p(df['estimated_diameter_max'])"
   ]
  },
  {
   "cell_type": "code",
   "execution_count": 15,
   "metadata": {},
   "outputs": [
    {
     "name": "stdout",
     "output_type": "stream",
     "text": [
      "Categorical Features: ['orbiting_body', 'is_hazardous', 'full_name', 'last_obs']\n",
      "Numerical Features: ['neo_id', 'absolute_magnitude', 'estimated_diameter_min', 'estimated_diameter_max', 'relative_velocity', 'miss_distance', 'moid']\n"
     ]
    }
   ],
   "source": [
    "categorical_features = df.select_dtypes(include=['object', 'category','bool']).columns.tolist()\n",
    "numerical_features = df.select_dtypes(include=['number']).columns.tolist()\n",
    "\n",
    "print(\"Categorical Features:\", categorical_features)\n",
    "print(\"Numerical Features:\", numerical_features)"
   ]
  },
  {
   "cell_type": "code",
   "execution_count": 16,
   "metadata": {},
   "outputs": [],
   "source": [
    "label_encoding = LabelEncoder()\n",
    "for col in categorical_features:\n",
    "    df[col] = label_encoding.fit_transform(df[col])"
   ]
  },
  {
   "cell_type": "code",
   "execution_count": 17,
   "metadata": {},
   "outputs": [],
   "source": [
    "numerical_features = ['absolute_magnitude', 'estimated_diameter_min', 'estimated_diameter_max', \n",
    "                       'relative_velocity', 'miss_distance']\n",
    "\n",
    "scaler = StandardScaler()\n",
    "df[numerical_features] = scaler.fit_transform(df[numerical_features])"
   ]
  },
  {
   "cell_type": "code",
   "execution_count": 18,
   "metadata": {},
   "outputs": [],
   "source": [
    "df = df.drop(columns=['full_name', 'neo_id', 'last_obs', 'orbiting_body' ])"
   ]
  },
  {
   "cell_type": "code",
   "execution_count": 19,
   "metadata": {},
   "outputs": [
    {
     "data": {
      "text/html": [
       "<div>\n",
       "<style scoped>\n",
       "    .dataframe tbody tr th:only-of-type {\n",
       "        vertical-align: middle;\n",
       "    }\n",
       "\n",
       "    .dataframe tbody tr th {\n",
       "        vertical-align: top;\n",
       "    }\n",
       "\n",
       "    .dataframe thead th {\n",
       "        text-align: right;\n",
       "    }\n",
       "</style>\n",
       "<table border=\"1\" class=\"dataframe\">\n",
       "  <thead>\n",
       "    <tr style=\"text-align: right;\">\n",
       "      <th></th>\n",
       "      <th>absolute_magnitude</th>\n",
       "      <th>estimated_diameter_min</th>\n",
       "      <th>estimated_diameter_max</th>\n",
       "      <th>relative_velocity</th>\n",
       "      <th>miss_distance</th>\n",
       "      <th>is_hazardous</th>\n",
       "      <th>moid</th>\n",
       "    </tr>\n",
       "  </thead>\n",
       "  <tbody>\n",
       "    <tr>\n",
       "      <th>0</th>\n",
       "      <td>-1.404852</td>\n",
       "      <td>1.458702</td>\n",
       "      <td>1.572803</td>\n",
       "      <td>0.816947</td>\n",
       "      <td>0.813685</td>\n",
       "      <td>0</td>\n",
       "      <td>0.105261</td>\n",
       "    </tr>\n",
       "    <tr>\n",
       "      <th>1</th>\n",
       "      <td>-1.628087</td>\n",
       "      <td>2.083379</td>\n",
       "      <td>2.152058</td>\n",
       "      <td>2.280802</td>\n",
       "      <td>0.701647</td>\n",
       "      <td>1</td>\n",
       "      <td>0.030238</td>\n",
       "    </tr>\n",
       "    <tr>\n",
       "      <th>2</th>\n",
       "      <td>-0.599112</td>\n",
       "      <td>0.075635</td>\n",
       "      <td>0.147109</td>\n",
       "      <td>-0.979324</td>\n",
       "      <td>1.247151</td>\n",
       "      <td>0</td>\n",
       "      <td>0.059966</td>\n",
       "    </tr>\n",
       "    <tr>\n",
       "      <th>3</th>\n",
       "      <td>-0.885132</td>\n",
       "      <td>0.436994</td>\n",
       "      <td>0.542769</td>\n",
       "      <td>1.090705</td>\n",
       "      <td>-0.513372</td>\n",
       "      <td>0</td>\n",
       "      <td>0.154436</td>\n",
       "    </tr>\n",
       "    <tr>\n",
       "      <th>4</th>\n",
       "      <td>-0.163105</td>\n",
       "      <td>-0.288098</td>\n",
       "      <td>-0.272000</td>\n",
       "      <td>0.215038</td>\n",
       "      <td>1.051623</td>\n",
       "      <td>0</td>\n",
       "      <td>0.034305</td>\n",
       "    </tr>\n",
       "  </tbody>\n",
       "</table>\n",
       "</div>"
      ],
      "text/plain": [
       "   absolute_magnitude  estimated_diameter_min  estimated_diameter_max  \\\n",
       "0           -1.404852                1.458702                1.572803   \n",
       "1           -1.628087                2.083379                2.152058   \n",
       "2           -0.599112                0.075635                0.147109   \n",
       "3           -0.885132                0.436994                0.542769   \n",
       "4           -0.163105               -0.288098               -0.272000   \n",
       "\n",
       "   relative_velocity  miss_distance  is_hazardous      moid  \n",
       "0           0.816947       0.813685             0  0.105261  \n",
       "1           2.280802       0.701647             1  0.030238  \n",
       "2          -0.979324       1.247151             0  0.059966  \n",
       "3           1.090705      -0.513372             0  0.154436  \n",
       "4           0.215038       1.051623             0  0.034305  "
      ]
     },
     "execution_count": 19,
     "metadata": {},
     "output_type": "execute_result"
    }
   ],
   "source": [
    "df.head()"
   ]
  },
  {
   "cell_type": "code",
   "execution_count": 20,
   "metadata": {},
   "outputs": [],
   "source": [
    "# Menyimpan DataFrame sebagai CSV\n",
    "df.to_csv('data_preprocessed.csv', index=False)"
   ]
  }
 ],
 "metadata": {
  "kernelspec": {
   "display_name": "Python 3",
   "language": "python",
   "name": "python3"
  },
  "language_info": {
   "codemirror_mode": {
    "name": "ipython",
    "version": 3
   },
   "file_extension": ".py",
   "mimetype": "text/x-python",
   "name": "python",
   "nbconvert_exporter": "python",
   "pygments_lexer": "ipython3",
   "version": "3.9.13"
  }
 },
 "nbformat": 4,
 "nbformat_minor": 2
}
